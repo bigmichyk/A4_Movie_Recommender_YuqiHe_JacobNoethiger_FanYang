{
  "nbformat": 4,
  "nbformat_minor": 0,
  "metadata": {
    "colab": {
      "provenance": []
    },
    "kernelspec": {
      "name": "python3",
      "display_name": "Python 3"
    },
    "language_info": {
      "name": "python"
    }
  },
  "cells": [
    {
      "cell_type": "code",
      "execution_count": null,
      "metadata": {
        "id": "NoYosgB59Ds7"
      },
      "outputs": [],
      "source": [
        "import pandas as pd\n",
        "import numpy as np\n",
        "import re\n",
        "from sklearn.feature_extraction.text import TfidfVectorizer\n",
        "from sklearn.metrics.pairwise import linear_kernel\n",
        "from sklearn.feature_extraction.text import CountVectorizer\n",
        "from sklearn.metrics.pairwise import cosine_similarity\n",
        "from sklearn.metrics.pairwise import pairwise_distances\n",
        "from scipy.spatial.distance import cdist"
      ]
    },
    {
      "cell_type": "code",
      "source": [
        "from google.colab import drive\n",
        "drive.mount('/content/drive')"
      ],
      "metadata": {
        "colab": {
          "base_uri": "https://localhost:8080/"
        },
        "id": "DZ5zfGBm-C9A",
        "outputId": "e9dd1a6a-66d4-4d57-bcf5-a122df045b71"
      },
      "execution_count": null,
      "outputs": [
        {
          "output_type": "stream",
          "name": "stdout",
          "text": [
            "Mounted at /content/drive\n"
          ]
        }
      ]
    },
    {
      "cell_type": "code",
      "source": [
        "movie = '/content/drive/My Drive/dataset/movies_metadata.csv'\n",
        "movie_df = pd.read_csv(movie)"
      ],
      "metadata": {
        "id": "zXep-sp7-Hll",
        "colab": {
          "base_uri": "https://localhost:8080/"
        },
        "outputId": "040d7f71-b58c-4c16-fe6e-72b35883d0b4"
      },
      "execution_count": null,
      "outputs": [
        {
          "output_type": "stream",
          "name": "stderr",
          "text": [
            "/usr/local/lib/python3.8/dist-packages/IPython/core/interactiveshell.py:3326: DtypeWarning: Columns (10) have mixed types.Specify dtype option on import or set low_memory=False.\n",
            "  exec(code_obj, self.user_global_ns, self.user_ns)\n"
          ]
        }
      ]
    },
    {
      "cell_type": "code",
      "source": [
        "movie_df.head()"
      ],
      "metadata": {
        "colab": {
          "base_uri": "https://localhost:8080/",
          "height": 751
        },
        "id": "NVCCF6sSAbHN",
        "outputId": "91ade50a-4ee7-4299-be0f-c3dc35e9a428"
      },
      "execution_count": null,
      "outputs": [
        {
          "output_type": "execute_result",
          "data": {
            "text/plain": [
              "   adult                              belongs_to_collection    budget  \\\n",
              "0  False  {'id': 10194, 'name': 'Toy Story Collection', ...  30000000   \n",
              "1  False                                                NaN  65000000   \n",
              "2  False  {'id': 119050, 'name': 'Grumpy Old Men Collect...         0   \n",
              "3  False                                                NaN  16000000   \n",
              "4  False  {'id': 96871, 'name': 'Father of the Bride Col...         0   \n",
              "\n",
              "                                              genres  \\\n",
              "0  [{'id': 16, 'name': 'Animation'}, {'id': 35, '...   \n",
              "1  [{'id': 12, 'name': 'Adventure'}, {'id': 14, '...   \n",
              "2  [{'id': 10749, 'name': 'Romance'}, {'id': 35, ...   \n",
              "3  [{'id': 35, 'name': 'Comedy'}, {'id': 18, 'nam...   \n",
              "4                     [{'id': 35, 'name': 'Comedy'}]   \n",
              "\n",
              "                               homepage     id    imdb_id original_language  \\\n",
              "0  http://toystory.disney.com/toy-story    862  tt0114709                en   \n",
              "1                                   NaN   8844  tt0113497                en   \n",
              "2                                   NaN  15602  tt0113228                en   \n",
              "3                                   NaN  31357  tt0114885                en   \n",
              "4                                   NaN  11862  tt0113041                en   \n",
              "\n",
              "                original_title  \\\n",
              "0                    Toy Story   \n",
              "1                      Jumanji   \n",
              "2             Grumpier Old Men   \n",
              "3            Waiting to Exhale   \n",
              "4  Father of the Bride Part II   \n",
              "\n",
              "                                            overview  ... release_date  \\\n",
              "0  Led by Woody, Andy's toys live happily in his ...  ...   1995-10-30   \n",
              "1  When siblings Judy and Peter discover an encha...  ...   1995-12-15   \n",
              "2  A family wedding reignites the ancient feud be...  ...   1995-12-22   \n",
              "3  Cheated on, mistreated and stepped on, the wom...  ...   1995-12-22   \n",
              "4  Just when George Banks has recovered from his ...  ...   1995-02-10   \n",
              "\n",
              "       revenue runtime                                   spoken_languages  \\\n",
              "0  373554033.0    81.0           [{'iso_639_1': 'en', 'name': 'English'}]   \n",
              "1  262797249.0   104.0  [{'iso_639_1': 'en', 'name': 'English'}, {'iso...   \n",
              "2          0.0   101.0           [{'iso_639_1': 'en', 'name': 'English'}]   \n",
              "3   81452156.0   127.0           [{'iso_639_1': 'en', 'name': 'English'}]   \n",
              "4   76578911.0   106.0           [{'iso_639_1': 'en', 'name': 'English'}]   \n",
              "\n",
              "     status                                            tagline  \\\n",
              "0  Released                                                NaN   \n",
              "1  Released          Roll the dice and unleash the excitement!   \n",
              "2  Released  Still Yelling. Still Fighting. Still Ready for...   \n",
              "3  Released  Friends are the people who let you be yourself...   \n",
              "4  Released  Just When His World Is Back To Normal... He's ...   \n",
              "\n",
              "                         title  video vote_average vote_count  \n",
              "0                    Toy Story  False          7.7     5415.0  \n",
              "1                      Jumanji  False          6.9     2413.0  \n",
              "2             Grumpier Old Men  False          6.5       92.0  \n",
              "3            Waiting to Exhale  False          6.1       34.0  \n",
              "4  Father of the Bride Part II  False          5.7      173.0  \n",
              "\n",
              "[5 rows x 24 columns]"
            ],
            "text/html": [
              "\n",
              "  <div id=\"df-a1b619a5-132e-40b2-a4a8-cd05f0dbc93b\">\n",
              "    <div class=\"colab-df-container\">\n",
              "      <div>\n",
              "<style scoped>\n",
              "    .dataframe tbody tr th:only-of-type {\n",
              "        vertical-align: middle;\n",
              "    }\n",
              "\n",
              "    .dataframe tbody tr th {\n",
              "        vertical-align: top;\n",
              "    }\n",
              "\n",
              "    .dataframe thead th {\n",
              "        text-align: right;\n",
              "    }\n",
              "</style>\n",
              "<table border=\"1\" class=\"dataframe\">\n",
              "  <thead>\n",
              "    <tr style=\"text-align: right;\">\n",
              "      <th></th>\n",
              "      <th>adult</th>\n",
              "      <th>belongs_to_collection</th>\n",
              "      <th>budget</th>\n",
              "      <th>genres</th>\n",
              "      <th>homepage</th>\n",
              "      <th>id</th>\n",
              "      <th>imdb_id</th>\n",
              "      <th>original_language</th>\n",
              "      <th>original_title</th>\n",
              "      <th>overview</th>\n",
              "      <th>...</th>\n",
              "      <th>release_date</th>\n",
              "      <th>revenue</th>\n",
              "      <th>runtime</th>\n",
              "      <th>spoken_languages</th>\n",
              "      <th>status</th>\n",
              "      <th>tagline</th>\n",
              "      <th>title</th>\n",
              "      <th>video</th>\n",
              "      <th>vote_average</th>\n",
              "      <th>vote_count</th>\n",
              "    </tr>\n",
              "  </thead>\n",
              "  <tbody>\n",
              "    <tr>\n",
              "      <th>0</th>\n",
              "      <td>False</td>\n",
              "      <td>{'id': 10194, 'name': 'Toy Story Collection', ...</td>\n",
              "      <td>30000000</td>\n",
              "      <td>[{'id': 16, 'name': 'Animation'}, {'id': 35, '...</td>\n",
              "      <td>http://toystory.disney.com/toy-story</td>\n",
              "      <td>862</td>\n",
              "      <td>tt0114709</td>\n",
              "      <td>en</td>\n",
              "      <td>Toy Story</td>\n",
              "      <td>Led by Woody, Andy's toys live happily in his ...</td>\n",
              "      <td>...</td>\n",
              "      <td>1995-10-30</td>\n",
              "      <td>373554033.0</td>\n",
              "      <td>81.0</td>\n",
              "      <td>[{'iso_639_1': 'en', 'name': 'English'}]</td>\n",
              "      <td>Released</td>\n",
              "      <td>NaN</td>\n",
              "      <td>Toy Story</td>\n",
              "      <td>False</td>\n",
              "      <td>7.7</td>\n",
              "      <td>5415.0</td>\n",
              "    </tr>\n",
              "    <tr>\n",
              "      <th>1</th>\n",
              "      <td>False</td>\n",
              "      <td>NaN</td>\n",
              "      <td>65000000</td>\n",
              "      <td>[{'id': 12, 'name': 'Adventure'}, {'id': 14, '...</td>\n",
              "      <td>NaN</td>\n",
              "      <td>8844</td>\n",
              "      <td>tt0113497</td>\n",
              "      <td>en</td>\n",
              "      <td>Jumanji</td>\n",
              "      <td>When siblings Judy and Peter discover an encha...</td>\n",
              "      <td>...</td>\n",
              "      <td>1995-12-15</td>\n",
              "      <td>262797249.0</td>\n",
              "      <td>104.0</td>\n",
              "      <td>[{'iso_639_1': 'en', 'name': 'English'}, {'iso...</td>\n",
              "      <td>Released</td>\n",
              "      <td>Roll the dice and unleash the excitement!</td>\n",
              "      <td>Jumanji</td>\n",
              "      <td>False</td>\n",
              "      <td>6.9</td>\n",
              "      <td>2413.0</td>\n",
              "    </tr>\n",
              "    <tr>\n",
              "      <th>2</th>\n",
              "      <td>False</td>\n",
              "      <td>{'id': 119050, 'name': 'Grumpy Old Men Collect...</td>\n",
              "      <td>0</td>\n",
              "      <td>[{'id': 10749, 'name': 'Romance'}, {'id': 35, ...</td>\n",
              "      <td>NaN</td>\n",
              "      <td>15602</td>\n",
              "      <td>tt0113228</td>\n",
              "      <td>en</td>\n",
              "      <td>Grumpier Old Men</td>\n",
              "      <td>A family wedding reignites the ancient feud be...</td>\n",
              "      <td>...</td>\n",
              "      <td>1995-12-22</td>\n",
              "      <td>0.0</td>\n",
              "      <td>101.0</td>\n",
              "      <td>[{'iso_639_1': 'en', 'name': 'English'}]</td>\n",
              "      <td>Released</td>\n",
              "      <td>Still Yelling. Still Fighting. Still Ready for...</td>\n",
              "      <td>Grumpier Old Men</td>\n",
              "      <td>False</td>\n",
              "      <td>6.5</td>\n",
              "      <td>92.0</td>\n",
              "    </tr>\n",
              "    <tr>\n",
              "      <th>3</th>\n",
              "      <td>False</td>\n",
              "      <td>NaN</td>\n",
              "      <td>16000000</td>\n",
              "      <td>[{'id': 35, 'name': 'Comedy'}, {'id': 18, 'nam...</td>\n",
              "      <td>NaN</td>\n",
              "      <td>31357</td>\n",
              "      <td>tt0114885</td>\n",
              "      <td>en</td>\n",
              "      <td>Waiting to Exhale</td>\n",
              "      <td>Cheated on, mistreated and stepped on, the wom...</td>\n",
              "      <td>...</td>\n",
              "      <td>1995-12-22</td>\n",
              "      <td>81452156.0</td>\n",
              "      <td>127.0</td>\n",
              "      <td>[{'iso_639_1': 'en', 'name': 'English'}]</td>\n",
              "      <td>Released</td>\n",
              "      <td>Friends are the people who let you be yourself...</td>\n",
              "      <td>Waiting to Exhale</td>\n",
              "      <td>False</td>\n",
              "      <td>6.1</td>\n",
              "      <td>34.0</td>\n",
              "    </tr>\n",
              "    <tr>\n",
              "      <th>4</th>\n",
              "      <td>False</td>\n",
              "      <td>{'id': 96871, 'name': 'Father of the Bride Col...</td>\n",
              "      <td>0</td>\n",
              "      <td>[{'id': 35, 'name': 'Comedy'}]</td>\n",
              "      <td>NaN</td>\n",
              "      <td>11862</td>\n",
              "      <td>tt0113041</td>\n",
              "      <td>en</td>\n",
              "      <td>Father of the Bride Part II</td>\n",
              "      <td>Just when George Banks has recovered from his ...</td>\n",
              "      <td>...</td>\n",
              "      <td>1995-02-10</td>\n",
              "      <td>76578911.0</td>\n",
              "      <td>106.0</td>\n",
              "      <td>[{'iso_639_1': 'en', 'name': 'English'}]</td>\n",
              "      <td>Released</td>\n",
              "      <td>Just When His World Is Back To Normal... He's ...</td>\n",
              "      <td>Father of the Bride Part II</td>\n",
              "      <td>False</td>\n",
              "      <td>5.7</td>\n",
              "      <td>173.0</td>\n",
              "    </tr>\n",
              "  </tbody>\n",
              "</table>\n",
              "<p>5 rows × 24 columns</p>\n",
              "</div>\n",
              "      <button class=\"colab-df-convert\" onclick=\"convertToInteractive('df-a1b619a5-132e-40b2-a4a8-cd05f0dbc93b')\"\n",
              "              title=\"Convert this dataframe to an interactive table.\"\n",
              "              style=\"display:none;\">\n",
              "        \n",
              "  <svg xmlns=\"http://www.w3.org/2000/svg\" height=\"24px\"viewBox=\"0 0 24 24\"\n",
              "       width=\"24px\">\n",
              "    <path d=\"M0 0h24v24H0V0z\" fill=\"none\"/>\n",
              "    <path d=\"M18.56 5.44l.94 2.06.94-2.06 2.06-.94-2.06-.94-.94-2.06-.94 2.06-2.06.94zm-11 1L8.5 8.5l.94-2.06 2.06-.94-2.06-.94L8.5 2.5l-.94 2.06-2.06.94zm10 10l.94 2.06.94-2.06 2.06-.94-2.06-.94-.94-2.06-.94 2.06-2.06.94z\"/><path d=\"M17.41 7.96l-1.37-1.37c-.4-.4-.92-.59-1.43-.59-.52 0-1.04.2-1.43.59L10.3 9.45l-7.72 7.72c-.78.78-.78 2.05 0 2.83L4 21.41c.39.39.9.59 1.41.59.51 0 1.02-.2 1.41-.59l7.78-7.78 2.81-2.81c.8-.78.8-2.07 0-2.86zM5.41 20L4 18.59l7.72-7.72 1.47 1.35L5.41 20z\"/>\n",
              "  </svg>\n",
              "      </button>\n",
              "      \n",
              "  <style>\n",
              "    .colab-df-container {\n",
              "      display:flex;\n",
              "      flex-wrap:wrap;\n",
              "      gap: 12px;\n",
              "    }\n",
              "\n",
              "    .colab-df-convert {\n",
              "      background-color: #E8F0FE;\n",
              "      border: none;\n",
              "      border-radius: 50%;\n",
              "      cursor: pointer;\n",
              "      display: none;\n",
              "      fill: #1967D2;\n",
              "      height: 32px;\n",
              "      padding: 0 0 0 0;\n",
              "      width: 32px;\n",
              "    }\n",
              "\n",
              "    .colab-df-convert:hover {\n",
              "      background-color: #E2EBFA;\n",
              "      box-shadow: 0px 1px 2px rgba(60, 64, 67, 0.3), 0px 1px 3px 1px rgba(60, 64, 67, 0.15);\n",
              "      fill: #174EA6;\n",
              "    }\n",
              "\n",
              "    [theme=dark] .colab-df-convert {\n",
              "      background-color: #3B4455;\n",
              "      fill: #D2E3FC;\n",
              "    }\n",
              "\n",
              "    [theme=dark] .colab-df-convert:hover {\n",
              "      background-color: #434B5C;\n",
              "      box-shadow: 0px 1px 3px 1px rgba(0, 0, 0, 0.15);\n",
              "      filter: drop-shadow(0px 1px 2px rgba(0, 0, 0, 0.3));\n",
              "      fill: #FFFFFF;\n",
              "    }\n",
              "  </style>\n",
              "\n",
              "      <script>\n",
              "        const buttonEl =\n",
              "          document.querySelector('#df-a1b619a5-132e-40b2-a4a8-cd05f0dbc93b button.colab-df-convert');\n",
              "        buttonEl.style.display =\n",
              "          google.colab.kernel.accessAllowed ? 'block' : 'none';\n",
              "\n",
              "        async function convertToInteractive(key) {\n",
              "          const element = document.querySelector('#df-a1b619a5-132e-40b2-a4a8-cd05f0dbc93b');\n",
              "          const dataTable =\n",
              "            await google.colab.kernel.invokeFunction('convertToInteractive',\n",
              "                                                     [key], {});\n",
              "          if (!dataTable) return;\n",
              "\n",
              "          const docLinkHtml = 'Like what you see? Visit the ' +\n",
              "            '<a target=\"_blank\" href=https://colab.research.google.com/notebooks/data_table.ipynb>data table notebook</a>'\n",
              "            + ' to learn more about interactive tables.';\n",
              "          element.innerHTML = '';\n",
              "          dataTable['output_type'] = 'display_data';\n",
              "          await google.colab.output.renderOutput(dataTable, element);\n",
              "          const docLink = document.createElement('div');\n",
              "          docLink.innerHTML = docLinkHtml;\n",
              "          element.appendChild(docLink);\n",
              "        }\n",
              "      </script>\n",
              "    </div>\n",
              "  </div>\n",
              "  "
            ]
          },
          "metadata": {},
          "execution_count": 4
        }
      ]
    },
    {
      "cell_type": "code",
      "source": [
        "movie_df['overview'].head()"
      ],
      "metadata": {
        "colab": {
          "base_uri": "https://localhost:8080/"
        },
        "id": "-wnxUU5G-qKT",
        "outputId": "53cdf672-f964-4e0e-cfa4-63690888718e"
      },
      "execution_count": null,
      "outputs": [
        {
          "output_type": "execute_result",
          "data": {
            "text/plain": [
              "0    Led by Woody, Andy's toys live happily in his ...\n",
              "1    When siblings Judy and Peter discover an encha...\n",
              "2    A family wedding reignites the ancient feud be...\n",
              "3    Cheated on, mistreated and stepped on, the wom...\n",
              "4    Just when George Banks has recovered from his ...\n",
              "Name: overview, dtype: object"
            ]
          },
          "metadata": {},
          "execution_count": 5
        }
      ]
    },
    {
      "cell_type": "code",
      "source": [
        "movie_df.info()"
      ],
      "metadata": {
        "colab": {
          "base_uri": "https://localhost:8080/"
        },
        "id": "mw7Li4KOFO4e",
        "outputId": "e3526ea8-2dd7-4321-fcf6-dee4a528ff82"
      },
      "execution_count": null,
      "outputs": [
        {
          "output_type": "stream",
          "name": "stdout",
          "text": [
            "<class 'pandas.core.frame.DataFrame'>\n",
            "RangeIndex: 45466 entries, 0 to 45465\n",
            "Data columns (total 24 columns):\n",
            " #   Column                 Non-Null Count  Dtype  \n",
            "---  ------                 --------------  -----  \n",
            " 0   adult                  45466 non-null  object \n",
            " 1   belongs_to_collection  4494 non-null   object \n",
            " 2   budget                 45466 non-null  object \n",
            " 3   genres                 45466 non-null  object \n",
            " 4   homepage               7782 non-null   object \n",
            " 5   id                     45466 non-null  object \n",
            " 6   imdb_id                45449 non-null  object \n",
            " 7   original_language      45455 non-null  object \n",
            " 8   original_title         45466 non-null  object \n",
            " 9   overview               44512 non-null  object \n",
            " 10  popularity             45461 non-null  object \n",
            " 11  poster_path            45080 non-null  object \n",
            " 12  production_companies   45463 non-null  object \n",
            " 13  production_countries   45463 non-null  object \n",
            " 14  release_date           45379 non-null  object \n",
            " 15  revenue                45460 non-null  float64\n",
            " 16  runtime                45203 non-null  float64\n",
            " 17  spoken_languages       45460 non-null  object \n",
            " 18  status                 45379 non-null  object \n",
            " 19  tagline                20412 non-null  object \n",
            " 20  title                  45460 non-null  object \n",
            " 21  video                  45460 non-null  object \n",
            " 22  vote_average           45460 non-null  float64\n",
            " 23  vote_count             45460 non-null  float64\n",
            "dtypes: float64(4), object(20)\n",
            "memory usage: 8.3+ MB\n"
          ]
        }
      ]
    },
    {
      "cell_type": "markdown",
      "source": [
        "# Create Movie Profile\n",
        "\n",
        "\n",
        "#### Data Preprocessing"
      ],
      "metadata": {
        "id": "oMmvp-9j4wqz"
      }
    },
    {
      "cell_type": "code",
      "source": [
        "import re\n",
        "# drop unwanted columns\n",
        "movie_df.drop(columns=['adult','budget','homepage','imdb_id','original_language','release_date','poster_path','production_companies','production_countries','release_date','revenue','runtime','spoken_languages','status','title','video','vote_count','popularity','belongs_to_collection', 'vote_average'],inplace=True)\n",
        "# remove NA values\n",
        "movie_df = movie_df[movie_df[\"tagline\"].str.contains(\"NaN\") == False]\n",
        "# \n",
        "movie_features = [\"genres\",\"overview\",\"tagline\"]\n",
        "# combine these features, cleaning the content of the feature\n",
        "def combined_features(row):\n",
        " return row['genres'] + \" \" + row['overview'] + \" \" + row['tagline']\n",
        "for feature in movie_features:\n",
        "  movie_df[feature] = movie_df[feature].str.replace(r'[^\\w\\s]+', '').str.replace(r'[\\d]+', '').str.replace('name', '').str.replace('id', '').str.replace(r'[\\s]+', ' ').str.lower()\n",
        "  movie_df[feature] = movie_df[feature].fillna('')\n",
        "movie_df['combined_features'] = movie_df.apply(combined_features, axis=1)\n"
      ],
      "metadata": {
        "colab": {
          "base_uri": "https://localhost:8080/"
        },
        "id": "OjUlWVMGXVvs",
        "outputId": "bcb2804f-ff73-4d9c-dc04-81c1ad8919c9"
      },
      "execution_count": null,
      "outputs": [
        {
          "output_type": "stream",
          "name": "stderr",
          "text": [
            "<ipython-input-7-5c64b004e7aa>:12: FutureWarning: The default value of regex will change from True to False in a future version.\n",
            "  movie_df[feature] = movie_df[feature].str.replace(r'[^\\w\\s]+', '').str.replace(r'[\\d]+', '').str.replace('name', '').str.replace('id', '').str.replace(r'[\\s]+', ' ').str.lower()\n"
          ]
        }
      ]
    },
    {
      "cell_type": "code",
      "source": [
        "movie_df.shape"
      ],
      "metadata": {
        "colab": {
          "base_uri": "https://localhost:8080/"
        },
        "id": "GC6yX0U7aIx8",
        "outputId": "40d07036-eea8-43bb-d44b-56f81e913ff2"
      },
      "execution_count": null,
      "outputs": [
        {
          "output_type": "execute_result",
          "data": {
            "text/plain": [
              "(20412, 6)"
            ]
          },
          "metadata": {},
          "execution_count": 8
        }
      ]
    },
    {
      "cell_type": "code",
      "source": [
        "movie_df.head()"
      ],
      "metadata": {
        "colab": {
          "base_uri": "https://localhost:8080/",
          "height": 206
        },
        "id": "k_Z4yb6wZIPX",
        "outputId": "4fde3a79-14d3-487e-d084-d6ac5433d8fa"
      },
      "execution_count": null,
      "outputs": [
        {
          "output_type": "execute_result",
          "data": {
            "text/plain": [
              "                         genres     id               original_title  \\\n",
              "1      adventure fantasy family   8844                      Jumanji   \n",
              "2                romance comedy  15602             Grumpier Old Men   \n",
              "3          comedy drama romance  31357            Waiting to Exhale   \n",
              "4                        comedy  11862  Father of the Bride Part II   \n",
              "5   action crime drama thriller    949                         Heat   \n",
              "\n",
              "                                            overview  \\\n",
              "1  when siblings judy and peter discover an encha...   \n",
              "2  a family wedding reignites the ancient feud be...   \n",
              "3  cheated on mistreated and stepped on the women...   \n",
              "4  just when george banks has recovered from his ...   \n",
              "5  obsessive master thief neil mccauley leads a t...   \n",
              "\n",
              "                                             tagline  \\\n",
              "1           roll the dice and unleash the excitement   \n",
              "2  still yelling still fighting still ready for love   \n",
              "3  friends are the people who let you be yourself...   \n",
              "4  just when his world is back to normal hes in f...   \n",
              "5                           a los angeles crime saga   \n",
              "\n",
              "                                   combined_features  \n",
              "1   adventure fantasy family when siblings judy a...  \n",
              "2   romance comedy a family wedding reignites the...  \n",
              "3   comedy drama romance cheated on mistreated an...  \n",
              "4   comedy just when george banks has recovered f...  \n",
              "5   action crime drama thriller obsessive master ...  "
            ],
            "text/html": [
              "\n",
              "  <div id=\"df-a528a58e-0e85-4f47-a757-a19718fc9141\">\n",
              "    <div class=\"colab-df-container\">\n",
              "      <div>\n",
              "<style scoped>\n",
              "    .dataframe tbody tr th:only-of-type {\n",
              "        vertical-align: middle;\n",
              "    }\n",
              "\n",
              "    .dataframe tbody tr th {\n",
              "        vertical-align: top;\n",
              "    }\n",
              "\n",
              "    .dataframe thead th {\n",
              "        text-align: right;\n",
              "    }\n",
              "</style>\n",
              "<table border=\"1\" class=\"dataframe\">\n",
              "  <thead>\n",
              "    <tr style=\"text-align: right;\">\n",
              "      <th></th>\n",
              "      <th>genres</th>\n",
              "      <th>id</th>\n",
              "      <th>original_title</th>\n",
              "      <th>overview</th>\n",
              "      <th>tagline</th>\n",
              "      <th>combined_features</th>\n",
              "    </tr>\n",
              "  </thead>\n",
              "  <tbody>\n",
              "    <tr>\n",
              "      <th>1</th>\n",
              "      <td>adventure fantasy family</td>\n",
              "      <td>8844</td>\n",
              "      <td>Jumanji</td>\n",
              "      <td>when siblings judy and peter discover an encha...</td>\n",
              "      <td>roll the dice and unleash the excitement</td>\n",
              "      <td>adventure fantasy family when siblings judy a...</td>\n",
              "    </tr>\n",
              "    <tr>\n",
              "      <th>2</th>\n",
              "      <td>romance comedy</td>\n",
              "      <td>15602</td>\n",
              "      <td>Grumpier Old Men</td>\n",
              "      <td>a family wedding reignites the ancient feud be...</td>\n",
              "      <td>still yelling still fighting still ready for love</td>\n",
              "      <td>romance comedy a family wedding reignites the...</td>\n",
              "    </tr>\n",
              "    <tr>\n",
              "      <th>3</th>\n",
              "      <td>comedy drama romance</td>\n",
              "      <td>31357</td>\n",
              "      <td>Waiting to Exhale</td>\n",
              "      <td>cheated on mistreated and stepped on the women...</td>\n",
              "      <td>friends are the people who let you be yourself...</td>\n",
              "      <td>comedy drama romance cheated on mistreated an...</td>\n",
              "    </tr>\n",
              "    <tr>\n",
              "      <th>4</th>\n",
              "      <td>comedy</td>\n",
              "      <td>11862</td>\n",
              "      <td>Father of the Bride Part II</td>\n",
              "      <td>just when george banks has recovered from his ...</td>\n",
              "      <td>just when his world is back to normal hes in f...</td>\n",
              "      <td>comedy just when george banks has recovered f...</td>\n",
              "    </tr>\n",
              "    <tr>\n",
              "      <th>5</th>\n",
              "      <td>action crime drama thriller</td>\n",
              "      <td>949</td>\n",
              "      <td>Heat</td>\n",
              "      <td>obsessive master thief neil mccauley leads a t...</td>\n",
              "      <td>a los angeles crime saga</td>\n",
              "      <td>action crime drama thriller obsessive master ...</td>\n",
              "    </tr>\n",
              "  </tbody>\n",
              "</table>\n",
              "</div>\n",
              "      <button class=\"colab-df-convert\" onclick=\"convertToInteractive('df-a528a58e-0e85-4f47-a757-a19718fc9141')\"\n",
              "              title=\"Convert this dataframe to an interactive table.\"\n",
              "              style=\"display:none;\">\n",
              "        \n",
              "  <svg xmlns=\"http://www.w3.org/2000/svg\" height=\"24px\"viewBox=\"0 0 24 24\"\n",
              "       width=\"24px\">\n",
              "    <path d=\"M0 0h24v24H0V0z\" fill=\"none\"/>\n",
              "    <path d=\"M18.56 5.44l.94 2.06.94-2.06 2.06-.94-2.06-.94-.94-2.06-.94 2.06-2.06.94zm-11 1L8.5 8.5l.94-2.06 2.06-.94-2.06-.94L8.5 2.5l-.94 2.06-2.06.94zm10 10l.94 2.06.94-2.06 2.06-.94-2.06-.94-.94-2.06-.94 2.06-2.06.94z\"/><path d=\"M17.41 7.96l-1.37-1.37c-.4-.4-.92-.59-1.43-.59-.52 0-1.04.2-1.43.59L10.3 9.45l-7.72 7.72c-.78.78-.78 2.05 0 2.83L4 21.41c.39.39.9.59 1.41.59.51 0 1.02-.2 1.41-.59l7.78-7.78 2.81-2.81c.8-.78.8-2.07 0-2.86zM5.41 20L4 18.59l7.72-7.72 1.47 1.35L5.41 20z\"/>\n",
              "  </svg>\n",
              "      </button>\n",
              "      \n",
              "  <style>\n",
              "    .colab-df-container {\n",
              "      display:flex;\n",
              "      flex-wrap:wrap;\n",
              "      gap: 12px;\n",
              "    }\n",
              "\n",
              "    .colab-df-convert {\n",
              "      background-color: #E8F0FE;\n",
              "      border: none;\n",
              "      border-radius: 50%;\n",
              "      cursor: pointer;\n",
              "      display: none;\n",
              "      fill: #1967D2;\n",
              "      height: 32px;\n",
              "      padding: 0 0 0 0;\n",
              "      width: 32px;\n",
              "    }\n",
              "\n",
              "    .colab-df-convert:hover {\n",
              "      background-color: #E2EBFA;\n",
              "      box-shadow: 0px 1px 2px rgba(60, 64, 67, 0.3), 0px 1px 3px 1px rgba(60, 64, 67, 0.15);\n",
              "      fill: #174EA6;\n",
              "    }\n",
              "\n",
              "    [theme=dark] .colab-df-convert {\n",
              "      background-color: #3B4455;\n",
              "      fill: #D2E3FC;\n",
              "    }\n",
              "\n",
              "    [theme=dark] .colab-df-convert:hover {\n",
              "      background-color: #434B5C;\n",
              "      box-shadow: 0px 1px 3px 1px rgba(0, 0, 0, 0.15);\n",
              "      filter: drop-shadow(0px 1px 2px rgba(0, 0, 0, 0.3));\n",
              "      fill: #FFFFFF;\n",
              "    }\n",
              "  </style>\n",
              "\n",
              "      <script>\n",
              "        const buttonEl =\n",
              "          document.querySelector('#df-a528a58e-0e85-4f47-a757-a19718fc9141 button.colab-df-convert');\n",
              "        buttonEl.style.display =\n",
              "          google.colab.kernel.accessAllowed ? 'block' : 'none';\n",
              "\n",
              "        async function convertToInteractive(key) {\n",
              "          const element = document.querySelector('#df-a528a58e-0e85-4f47-a757-a19718fc9141');\n",
              "          const dataTable =\n",
              "            await google.colab.kernel.invokeFunction('convertToInteractive',\n",
              "                                                     [key], {});\n",
              "          if (!dataTable) return;\n",
              "\n",
              "          const docLinkHtml = 'Like what you see? Visit the ' +\n",
              "            '<a target=\"_blank\" href=https://colab.research.google.com/notebooks/data_table.ipynb>data table notebook</a>'\n",
              "            + ' to learn more about interactive tables.';\n",
              "          element.innerHTML = '';\n",
              "          dataTable['output_type'] = 'display_data';\n",
              "          await google.colab.output.renderOutput(dataTable, element);\n",
              "          const docLink = document.createElement('div');\n",
              "          docLink.innerHTML = docLinkHtml;\n",
              "          element.appendChild(docLink);\n",
              "        }\n",
              "      </script>\n",
              "    </div>\n",
              "  </div>\n",
              "  "
            ]
          },
          "metadata": {},
          "execution_count": 9
        }
      ]
    },
    {
      "cell_type": "code",
      "source": [
        "movie_df['combined_features'] = movie_df['combined_features'].str.strip()\n",
        "movie_df['combined_features'] = movie_df['combined_features'].fillna(\"\").astype('str')\n",
        "\n",
        "movie_df.head()"
      ],
      "metadata": {
        "colab": {
          "base_uri": "https://localhost:8080/",
          "height": 206
        },
        "id": "d-ZTItf6CR5F",
        "outputId": "0c26f1a8-09b1-4f20-a713-908e5820eb99"
      },
      "execution_count": null,
      "outputs": [
        {
          "output_type": "execute_result",
          "data": {
            "text/plain": [
              "                         genres     id               original_title  \\\n",
              "1      adventure fantasy family   8844                      Jumanji   \n",
              "2                romance comedy  15602             Grumpier Old Men   \n",
              "3          comedy drama romance  31357            Waiting to Exhale   \n",
              "4                        comedy  11862  Father of the Bride Part II   \n",
              "5   action crime drama thriller    949                         Heat   \n",
              "\n",
              "                                            overview  \\\n",
              "1  when siblings judy and peter discover an encha...   \n",
              "2  a family wedding reignites the ancient feud be...   \n",
              "3  cheated on mistreated and stepped on the women...   \n",
              "4  just when george banks has recovered from his ...   \n",
              "5  obsessive master thief neil mccauley leads a t...   \n",
              "\n",
              "                                             tagline  \\\n",
              "1           roll the dice and unleash the excitement   \n",
              "2  still yelling still fighting still ready for love   \n",
              "3  friends are the people who let you be yourself...   \n",
              "4  just when his world is back to normal hes in f...   \n",
              "5                           a los angeles crime saga   \n",
              "\n",
              "                                   combined_features  \n",
              "1  adventure fantasy family when siblings judy an...  \n",
              "2  romance comedy a family wedding reignites the ...  \n",
              "3  comedy drama romance cheated on mistreated and...  \n",
              "4  comedy just when george banks has recovered fr...  \n",
              "5  action crime drama thriller obsessive master t...  "
            ],
            "text/html": [
              "\n",
              "  <div id=\"df-392f3351-bc86-4613-9114-8d3c0ed8592e\">\n",
              "    <div class=\"colab-df-container\">\n",
              "      <div>\n",
              "<style scoped>\n",
              "    .dataframe tbody tr th:only-of-type {\n",
              "        vertical-align: middle;\n",
              "    }\n",
              "\n",
              "    .dataframe tbody tr th {\n",
              "        vertical-align: top;\n",
              "    }\n",
              "\n",
              "    .dataframe thead th {\n",
              "        text-align: right;\n",
              "    }\n",
              "</style>\n",
              "<table border=\"1\" class=\"dataframe\">\n",
              "  <thead>\n",
              "    <tr style=\"text-align: right;\">\n",
              "      <th></th>\n",
              "      <th>genres</th>\n",
              "      <th>id</th>\n",
              "      <th>original_title</th>\n",
              "      <th>overview</th>\n",
              "      <th>tagline</th>\n",
              "      <th>combined_features</th>\n",
              "    </tr>\n",
              "  </thead>\n",
              "  <tbody>\n",
              "    <tr>\n",
              "      <th>1</th>\n",
              "      <td>adventure fantasy family</td>\n",
              "      <td>8844</td>\n",
              "      <td>Jumanji</td>\n",
              "      <td>when siblings judy and peter discover an encha...</td>\n",
              "      <td>roll the dice and unleash the excitement</td>\n",
              "      <td>adventure fantasy family when siblings judy an...</td>\n",
              "    </tr>\n",
              "    <tr>\n",
              "      <th>2</th>\n",
              "      <td>romance comedy</td>\n",
              "      <td>15602</td>\n",
              "      <td>Grumpier Old Men</td>\n",
              "      <td>a family wedding reignites the ancient feud be...</td>\n",
              "      <td>still yelling still fighting still ready for love</td>\n",
              "      <td>romance comedy a family wedding reignites the ...</td>\n",
              "    </tr>\n",
              "    <tr>\n",
              "      <th>3</th>\n",
              "      <td>comedy drama romance</td>\n",
              "      <td>31357</td>\n",
              "      <td>Waiting to Exhale</td>\n",
              "      <td>cheated on mistreated and stepped on the women...</td>\n",
              "      <td>friends are the people who let you be yourself...</td>\n",
              "      <td>comedy drama romance cheated on mistreated and...</td>\n",
              "    </tr>\n",
              "    <tr>\n",
              "      <th>4</th>\n",
              "      <td>comedy</td>\n",
              "      <td>11862</td>\n",
              "      <td>Father of the Bride Part II</td>\n",
              "      <td>just when george banks has recovered from his ...</td>\n",
              "      <td>just when his world is back to normal hes in f...</td>\n",
              "      <td>comedy just when george banks has recovered fr...</td>\n",
              "    </tr>\n",
              "    <tr>\n",
              "      <th>5</th>\n",
              "      <td>action crime drama thriller</td>\n",
              "      <td>949</td>\n",
              "      <td>Heat</td>\n",
              "      <td>obsessive master thief neil mccauley leads a t...</td>\n",
              "      <td>a los angeles crime saga</td>\n",
              "      <td>action crime drama thriller obsessive master t...</td>\n",
              "    </tr>\n",
              "  </tbody>\n",
              "</table>\n",
              "</div>\n",
              "      <button class=\"colab-df-convert\" onclick=\"convertToInteractive('df-392f3351-bc86-4613-9114-8d3c0ed8592e')\"\n",
              "              title=\"Convert this dataframe to an interactive table.\"\n",
              "              style=\"display:none;\">\n",
              "        \n",
              "  <svg xmlns=\"http://www.w3.org/2000/svg\" height=\"24px\"viewBox=\"0 0 24 24\"\n",
              "       width=\"24px\">\n",
              "    <path d=\"M0 0h24v24H0V0z\" fill=\"none\"/>\n",
              "    <path d=\"M18.56 5.44l.94 2.06.94-2.06 2.06-.94-2.06-.94-.94-2.06-.94 2.06-2.06.94zm-11 1L8.5 8.5l.94-2.06 2.06-.94-2.06-.94L8.5 2.5l-.94 2.06-2.06.94zm10 10l.94 2.06.94-2.06 2.06-.94-2.06-.94-.94-2.06-.94 2.06-2.06.94z\"/><path d=\"M17.41 7.96l-1.37-1.37c-.4-.4-.92-.59-1.43-.59-.52 0-1.04.2-1.43.59L10.3 9.45l-7.72 7.72c-.78.78-.78 2.05 0 2.83L4 21.41c.39.39.9.59 1.41.59.51 0 1.02-.2 1.41-.59l7.78-7.78 2.81-2.81c.8-.78.8-2.07 0-2.86zM5.41 20L4 18.59l7.72-7.72 1.47 1.35L5.41 20z\"/>\n",
              "  </svg>\n",
              "      </button>\n",
              "      \n",
              "  <style>\n",
              "    .colab-df-container {\n",
              "      display:flex;\n",
              "      flex-wrap:wrap;\n",
              "      gap: 12px;\n",
              "    }\n",
              "\n",
              "    .colab-df-convert {\n",
              "      background-color: #E8F0FE;\n",
              "      border: none;\n",
              "      border-radius: 50%;\n",
              "      cursor: pointer;\n",
              "      display: none;\n",
              "      fill: #1967D2;\n",
              "      height: 32px;\n",
              "      padding: 0 0 0 0;\n",
              "      width: 32px;\n",
              "    }\n",
              "\n",
              "    .colab-df-convert:hover {\n",
              "      background-color: #E2EBFA;\n",
              "      box-shadow: 0px 1px 2px rgba(60, 64, 67, 0.3), 0px 1px 3px 1px rgba(60, 64, 67, 0.15);\n",
              "      fill: #174EA6;\n",
              "    }\n",
              "\n",
              "    [theme=dark] .colab-df-convert {\n",
              "      background-color: #3B4455;\n",
              "      fill: #D2E3FC;\n",
              "    }\n",
              "\n",
              "    [theme=dark] .colab-df-convert:hover {\n",
              "      background-color: #434B5C;\n",
              "      box-shadow: 0px 1px 3px 1px rgba(0, 0, 0, 0.15);\n",
              "      filter: drop-shadow(0px 1px 2px rgba(0, 0, 0, 0.3));\n",
              "      fill: #FFFFFF;\n",
              "    }\n",
              "  </style>\n",
              "\n",
              "      <script>\n",
              "        const buttonEl =\n",
              "          document.querySelector('#df-392f3351-bc86-4613-9114-8d3c0ed8592e button.colab-df-convert');\n",
              "        buttonEl.style.display =\n",
              "          google.colab.kernel.accessAllowed ? 'block' : 'none';\n",
              "\n",
              "        async function convertToInteractive(key) {\n",
              "          const element = document.querySelector('#df-392f3351-bc86-4613-9114-8d3c0ed8592e');\n",
              "          const dataTable =\n",
              "            await google.colab.kernel.invokeFunction('convertToInteractive',\n",
              "                                                     [key], {});\n",
              "          if (!dataTable) return;\n",
              "\n",
              "          const docLinkHtml = 'Like what you see? Visit the ' +\n",
              "            '<a target=\"_blank\" href=https://colab.research.google.com/notebooks/data_table.ipynb>data table notebook</a>'\n",
              "            + ' to learn more about interactive tables.';\n",
              "          element.innerHTML = '';\n",
              "          dataTable['output_type'] = 'display_data';\n",
              "          await google.colab.output.renderOutput(dataTable, element);\n",
              "          const docLink = document.createElement('div');\n",
              "          docLink.innerHTML = docLinkHtml;\n",
              "          element.appendChild(docLink);\n",
              "        }\n",
              "      </script>\n",
              "    </div>\n",
              "  </div>\n",
              "  "
            ]
          },
          "metadata": {},
          "execution_count": 10
        }
      ]
    },
    {
      "cell_type": "code",
      "source": [
        "movie_df[\"combined_features\"]"
      ],
      "metadata": {
        "id": "q1zoeJOoD2bt",
        "colab": {
          "base_uri": "https://localhost:8080/"
        },
        "outputId": "3323666e-2ae4-4b48-b709-b98345b6160c"
      },
      "execution_count": null,
      "outputs": [
        {
          "output_type": "execute_result",
          "data": {
            "text/plain": [
              "1        adventure fantasy family when siblings judy an...\n",
              "2        romance comedy a family wedding reignites the ...\n",
              "3        comedy drama romance cheated on mistreated and...\n",
              "4        comedy just when george banks has recovered fr...\n",
              "5        action crime drama thriller obsessive master t...\n",
              "                               ...                        \n",
              "45454    comedy drama the morning after is a feature fi...\n",
              "45456    horror mystery thriller an unsuccessful sculpt...\n",
              "45458    horror a film archivist revisits the story of ...\n",
              "45461    drama family rising and falling between a man ...\n",
              "45463    action drama thriller when one of her hits goe...\n",
              "Name: combined_features, Length: 20412, dtype: object"
            ]
          },
          "metadata": {},
          "execution_count": 11
        }
      ]
    },
    {
      "cell_type": "markdown",
      "source": [
        "#### Convert to TF-IDF"
      ],
      "metadata": {
        "id": "-Sf2-p-xaVbS"
      }
    },
    {
      "cell_type": "code",
      "source": [
        "# prepare stopwords\n",
        "with open('/content/drive/My Drive/dataset/stopwords-english') as f:\n",
        "    stopwords = f.read().splitlines()\n",
        "\n",
        "print(stopwords)"
      ],
      "metadata": {
        "colab": {
          "base_uri": "https://localhost:8080/"
        },
        "id": "kp34nvyrljJV",
        "outputId": "95ef5628-8d17-47f9-a29d-97f6e769c233"
      },
      "execution_count": null,
      "outputs": [
        {
          "output_type": "stream",
          "name": "stdout",
          "text": [
            "['i', 'me', 'my', 'myself', 'we', 'our', 'ours', 'ourselves', 'you', \"you're\", \"you've\", \"you'll\", \"you'd\", 'your', 'yours', 'yourself', 'yourselves', 'he', 'him', 'his', 'himself', 'she', \"she's\", 'her', 'hers', 'herself', 'it', \"it's\", 'its', 'itself', 'they', 'them', 'their', 'theirs', 'themselves', 'what', 'which', 'who', 'whom', 'this', 'that', \"that'll\", 'these', 'those', 'am', 'is', 'are', 'was', 'were', 'be', 'been', 'being', 'have', 'has', 'had', 'having', 'do', 'does', 'did', 'doing', 'a', 'an', 'the', 'and', 'but', 'if', 'or', 'because', 'as', 'until', 'while', 'of', 'at', 'by', 'for', 'with', 'about', 'against', 'between', 'into', 'through', 'during', 'before', 'after', 'above', 'below', 'to', 'from', 'up', 'down', 'in', 'out', 'on', 'off', 'over', 'under', 'again', 'further', 'then', 'once', 'here', 'there', 'when', 'where', 'why', 'how', 'all', 'any', 'both', 'each', 'few', 'more', 'most', 'other', 'some', 'such', 'no', 'nor', 'not', 'only', 'own', 'same', 'so', 'than', 'too', 'very', 's', 't', 'can', 'will', 'just', 'don', \"don't\", 'should', \"should've\", 'now', 'd', 'll', 'm', 'o', 're', 've', 'y', 'ain', 'aren', \"aren't\", 'couldn', \"couldn't\", 'didn', \"didn't\", 'doesn', \"doesn't\", 'hadn', \"hadn't\", 'hasn', \"hasn't\", 'haven', \"haven't\", 'isn', \"isn't\", 'ma', 'mightn', \"mightn't\", 'mustn', \"mustn't\", 'needn', \"needn't\", 'shan', \"shan't\", 'shouldn', \"shouldn't\", 'wasn', \"wasn't\", 'weren', \"weren't\", 'won', \"won't\", 'wouldn', \"wouldn't\"]\n"
          ]
        }
      ]
    },
    {
      "cell_type": "code",
      "source": [
        "from sklearn.feature_extraction.text import TfidfVectorizer\n",
        "tf = TfidfVectorizer(stop_words= 'english')\n",
        "tfidf = tf.fit_transform(movie_df['combined_features'])\n",
        "tfidf.shape"
      ],
      "metadata": {
        "colab": {
          "base_uri": "https://localhost:8080/"
        },
        "id": "BZsAzPnnEtkE",
        "outputId": "7feeabf2-2e73-48cf-b242-5eba3a49fa66"
      },
      "execution_count": null,
      "outputs": [
        {
          "output_type": "execute_result",
          "data": {
            "text/plain": [
              "(20412, 55326)"
            ]
          },
          "metadata": {},
          "execution_count": 13
        }
      ]
    },
    {
      "cell_type": "markdown",
      "source": [
        "#### Cosine Similarity"
      ],
      "metadata": {
        "id": "etemT1ukrgWv"
      }
    },
    {
      "cell_type": "code",
      "source": [
        "from sklearn.metrics.pairwise import cosine_similarity\n",
        "cosine = cosine_similarity(tfidf, tfidf)\n",
        "cosine[:6, :6]"
      ],
      "metadata": {
        "id": "0s2Pb9ozFtOx",
        "colab": {
          "base_uri": "https://localhost:8080/"
        },
        "outputId": "6ba5b77f-89ee-4b0b-ac18-31385a354fec"
      },
      "execution_count": null,
      "outputs": [
        {
          "output_type": "execute_result",
          "data": {
            "text/plain": [
              "array([[1.        , 0.02838648, 0.        , 0.0071404 , 0.03882822,\n",
              "        0.        ],\n",
              "       [0.02838648, 1.        , 0.00736541, 0.0414469 , 0.        ,\n",
              "        0.00895673],\n",
              "       [0.        , 0.00736541, 1.        , 0.00356674, 0.00798271,\n",
              "        0.0096928 ],\n",
              "       [0.0071404 , 0.0414469 , 0.00356674, 1.        , 0.        ,\n",
              "        0.02650001],\n",
              "       [0.03882822, 0.        , 0.00798271, 0.        , 1.        ,\n",
              "        0.        ],\n",
              "       [0.        , 0.00895673, 0.0096928 , 0.02650001, 0.        ,\n",
              "        1.        ]])"
            ]
          },
          "metadata": {},
          "execution_count": 14
        }
      ]
    },
    {
      "cell_type": "markdown",
      "source": [
        "#### Euclidean_distance"
      ],
      "metadata": {
        "id": "gT291L2jw78o"
      }
    },
    {
      "cell_type": "code",
      "source": [
        "Euclidean = 1 - pairwise_distances(tfidf, metric = \"euclidean\")\n",
        "Euclidean"
      ],
      "metadata": {
        "colab": {
          "base_uri": "https://localhost:8080/"
        },
        "id": "e1LBnAsxrrJe",
        "outputId": "359e245b-cd39-41c5-895b-ad6098329663"
      },
      "execution_count": null,
      "outputs": [
        {
          "output_type": "execute_result",
          "data": {
            "text/plain": [
              "array([[ 1.        , -0.39399679, -0.41421356, ..., -0.40783441,\n",
              "        -0.40735   , -0.36609216],\n",
              "       [-0.39399679,  1.        , -0.40899581, ..., -0.41421356,\n",
              "        -0.40731707, -0.41421356],\n",
              "       [-0.41421356, -0.40899581,  1.        , ..., -0.41421356,\n",
              "        -0.39470982, -0.41173665],\n",
              "       ...,\n",
              "       [-0.40783441, -0.41421356, -0.41421356, ...,  1.        ,\n",
              "        -0.41421356, -0.41421356],\n",
              "       [-0.40735   , -0.40731707, -0.39470982, ..., -0.41421356,\n",
              "         1.        , -0.40954151],\n",
              "       [-0.36609216, -0.41421356, -0.41173665, ..., -0.41421356,\n",
              "        -0.40954151,  1.        ]])"
            ]
          },
          "metadata": {},
          "execution_count": 15
        }
      ]
    },
    {
      "cell_type": "code",
      "source": [
        "titles = movie_df['original_title']\n",
        "indices = pd.Series(movie_df.reset_index().index, index=movie_df['original_title'])\n",
        "indices"
      ],
      "metadata": {
        "colab": {
          "base_uri": "https://localhost:8080/"
        },
        "id": "aD9mdhvCHKpw",
        "outputId": "27270707-f5e0-4c2f-914e-fa1a15ee7533"
      },
      "execution_count": null,
      "outputs": [
        {
          "output_type": "execute_result",
          "data": {
            "text/plain": [
              "original_title\n",
              "Jumanji                            0\n",
              "Grumpier Old Men                   1\n",
              "Waiting to Exhale                  2\n",
              "Father of the Bride Part II        3\n",
              "Heat                               4\n",
              "                               ...  \n",
              "The Morning After              20407\n",
              "House of Horrors               20408\n",
              "The Burkittsville 7            20409\n",
              "رگ خواب                        20410\n",
              "Betrayal                       20411\n",
              "Length: 20412, dtype: int64"
            ]
          },
          "metadata": {},
          "execution_count": 16
        }
      ]
    },
    {
      "cell_type": "markdown",
      "source": [
        "Chebyshev and Jaccard\n",
        " "
      ],
      "metadata": {
        "id": "VlMo8AeR0zaZ"
      }
    },
    {
      "cell_type": "markdown",
      "source": [
        "#### Implementation and Results"
      ],
      "metadata": {
        "id": "hhQMHvq-2N4W"
      }
    },
    {
      "cell_type": "code",
      "source": [
        "def Cosine_recommendations(movie_title, sim = cosine):\n",
        "    movie_id = indices[movie_title]\n",
        "    global sim_scores\n",
        "    sim_scores = list(enumerate(sim[movie_id]))\n",
        "    sim_scores = sorted(sim_scores, key=lambda x: x[1], reverse=True)\n",
        "    sim_scores = sim_scores[1:11]\n",
        "    movie_indices = [i[0] for i in sim_scores]\n",
        "    return movie_df['original_title'].iloc[movie_indices]"
      ],
      "metadata": {
        "id": "9X2l2PpXIAOX"
      },
      "execution_count": null,
      "outputs": []
    },
    {
      "cell_type": "code",
      "source": [
        "Cosine_recommendations(\"John Wick\")"
      ],
      "metadata": {
        "colab": {
          "base_uri": "https://localhost:8080/"
        },
        "id": "LBQntW6VqoZP",
        "outputId": "ad158b01-eafb-4dd3-99d0-f5bd3038bae5"
      },
      "execution_count": null,
      "outputs": [
        {
          "output_type": "execute_result",
          "data": {
            "text/plain": [
              "42168    John Wick: Chapter 2\n",
              "3534                    Lured\n",
              "12104         The Dog Problem\n",
              "4445               Blind Fury\n",
              "23859                 The Dog\n",
              "807                 Stonewall\n",
              "29577           Welcome to Me\n",
              "23238               Wake Wood\n",
              "41814         A Dog's Purpose\n",
              "10198            C.H.O.M.P.S.\n",
              "Name: original_title, dtype: object"
            ]
          },
          "metadata": {},
          "execution_count": 32
        }
      ]
    },
    {
      "cell_type": "code",
      "source": [
        "Cosine_recommendations(\"The Dark Knight\")"
      ],
      "metadata": {
        "colab": {
          "base_uri": "https://localhost:8080/"
        },
        "id": "1dYCUTVCnvdw",
        "outputId": "e9a9eb01-40dc-43eb-e1fa-f772c54fccac"
      },
      "execution_count": null,
      "outputs": [
        {
          "output_type": "execute_result",
          "data": {
            "text/plain": [
              "18252                      The Dark Knight Rises\n",
              "1328                              Batman Returns\n",
              "20232    Batman: The Dark Knight Returns, Part 2\n",
              "15511                 Batman: Under the Red Hood\n",
              "25267                          Batman vs Dracula\n",
              "22021                             The Super Cops\n",
              "19792    Batman: The Dark Knight Returns, Part 1\n",
              "39626                   Batman: The Killing Joke\n",
              "18035                           Batman: Year One\n",
              "10122                              Batman Begins\n",
              "Name: original_title, dtype: object"
            ]
          },
          "metadata": {},
          "execution_count": 33
        }
      ]
    },
    {
      "cell_type": "code",
      "source": [
        "Cosine_recommendations(\"Shutter Island\")\n"
      ],
      "metadata": {
        "colab": {
          "base_uri": "https://localhost:8080/"
        },
        "id": "amr3PYWSnvqZ",
        "outputId": "2696458a-6a98-4210-de5d-73ce4166ce76"
      },
      "execution_count": null,
      "outputs": [
        {
          "output_type": "execute_result",
          "data": {
            "text/plain": [
              "41782         City of Dead Men\n",
              "26269            On the Inside\n",
              "20026             The Incident\n",
              "12717       The Rape of Europa\n",
              "42019                    रंगून\n",
              "5486             Crazy As Hell\n",
              "37929                   Rumble\n",
              "16809         Closing the Ring\n",
              "8422     The Mask of Dimitrios\n",
              "18707           La cara oculta\n",
              "Name: original_title, dtype: object"
            ]
          },
          "metadata": {},
          "execution_count": 34
        }
      ]
    },
    {
      "cell_type": "code",
      "source": [
        "Cosine_recommendations(\"Braveheart\")\n"
      ],
      "metadata": {
        "colab": {
          "base_uri": "https://localhost:8080/"
        },
        "id": "s9DNeDBcnvz7",
        "outputId": "73c9d29b-127a-4ce5-a909-15f53260ca68"
      },
      "execution_count": null,
      "outputs": [
        {
          "output_type": "execute_result",
          "data": {
            "text/plain": [
              "1181                    Henry V\n",
              "14834                      1066\n",
              "6246         A Man Called Horse\n",
              "21971            How I Live Now\n",
              "6900           Mary of Scotland\n",
              "7996                  Guerreros\n",
              "26489              Oliver Twist\n",
              "30049             The Lookalike\n",
              "31107              Morning Star\n",
              "8587     La battaglia di Algeri\n",
              "Name: original_title, dtype: object"
            ]
          },
          "metadata": {},
          "execution_count": 35
        }
      ]
    },
    {
      "cell_type": "code",
      "source": [
        "Cosine_recommendations(\"La La Land\")"
      ],
      "metadata": {
        "colab": {
          "base_uri": "https://localhost:8080/"
        },
        "id": "m6JhVutenv8l",
        "outputId": "9c475f04-8f16-401d-c1c6-171d1a1aa070"
      },
      "execution_count": null,
      "outputs": [
        {
          "output_type": "execute_result",
          "data": {
            "text/plain": [
              "37703    Born to Be Blue\n",
              "25221      Hey Bartender\n",
              "33618       Dirty O'Neil\n",
              "10840      She's the Man\n",
              "39550            Пятница\n",
              "23962          If I Stay\n",
              "18084          Bandwagon\n",
              "9180             Im Juli\n",
              "41688               Sing\n",
              "14813          Fish Tank\n",
              "Name: original_title, dtype: object"
            ]
          },
          "metadata": {},
          "execution_count": 36
        }
      ]
    },
    {
      "cell_type": "code",
      "source": [
        "Cosine_recommendations(\"Harry Potter and the Philosopher's Stone\")"
      ],
      "metadata": {
        "colab": {
          "base_uri": "https://localhost:8080/"
        },
        "id": "-w7Wq1tQnwea",
        "outputId": "84e0cd9e-af2c-4821-caaa-6d4cf5e44a0b"
      },
      "execution_count": null,
      "outputs": [
        {
          "output_type": "execute_result",
          "data": {
            "text/plain": [
              "5678          Harry Potter and the Chamber of Secrets\n",
              "4370                                    The Dead Pool\n",
              "10554             Harry Potter and the Goblet of Fire\n",
              "23506                                             Luv\n",
              "7725         Harry Potter and the Prisoner of Azkaban\n",
              "11927       Harry Potter and the Order of the Phoenix\n",
              "39065                               Bullet to Beijing\n",
              "18825                                Wild About Harry\n",
              "3951              Harry, un ami qui vous veut du bien\n",
              "17437    Harry Potter and the Deathly Hallows: Part 2\n",
              "Name: original_title, dtype: object"
            ]
          },
          "metadata": {},
          "execution_count": 48
        }
      ]
    },
    {
      "cell_type": "code",
      "source": [
        "Cosine_recommendations(\"Intouchables\")"
      ],
      "metadata": {
        "colab": {
          "base_uri": "https://localhost:8080/"
        },
        "id": "WzIuehZhxdNF",
        "outputId": "a85a8666-b864-4ea5-b94f-502856d578d8"
      },
      "execution_count": null,
      "outputs": [
        {
          "output_type": "execute_result",
          "data": {
            "text/plain": [
              "21911                   Arthur Newman\n",
              "9720                         Paha Maa\n",
              "25038               The Heart Machine\n",
              "31025    The Dive from Clausen's Pier\n",
              "11121                           Scoop\n",
              "35110                   The Big Short\n",
              "17239                  Lottery Ticket\n",
              "17432                     Monte Carlo\n",
              "12994                     The Duchess\n",
              "21435                            Jobs\n",
              "Name: original_title, dtype: object"
            ]
          },
          "metadata": {},
          "execution_count": 40
        }
      ]
    },
    {
      "cell_type": "code",
      "source": [
        "Cosine_recommendations(\"TRON: Legacy\")"
      ],
      "metadata": {
        "colab": {
          "base_uri": "https://localhost:8080/"
        },
        "id": "MWrfcjpYxdW0",
        "outputId": "4e6421f0-9bf8-408d-bca5-caed4bc5d522"
      },
      "execution_count": null,
      "outputs": [
        {
          "output_type": "execute_result",
          "data": {
            "text/plain": [
              "1996                                              Tron\n",
              "8394                                      The Sea Hawk\n",
              "13886    The Librarian: The Curse of the Judas Chalice\n",
              "11877                                       Dodge City\n",
              "9031                                   Josh and S.A.M.\n",
              "7638                                     Captain Blood\n",
              "11925                                     Transformers\n",
              "18202                                             Xtro\n",
              "2587                                     Summer of Sam\n",
              "11157                                       Johnny Was\n",
              "Name: original_title, dtype: object"
            ]
          },
          "metadata": {},
          "execution_count": 44
        }
      ]
    },
    {
      "cell_type": "code",
      "source": [
        "import matplotlib.pyplot as plt\n",
        "from matplotlib.pyplot import figure\n",
        "\n",
        "figure(figsize=(27, 10), dpi=80)\n",
        "movie_indices = [i[0] for i in sim_scores]\n",
        "raw_score = []\n",
        "for element in sim_scores:\n",
        "  raw_score.append(element[1])\n",
        "\n",
        "\n",
        "x = np.array(movie_df['original_title'].iloc[movie_indices])\n",
        "y = np.array(raw_score)\n",
        "\n",
        "\n",
        "plt.bar(x,y,color = \"#C20078\")\n",
        "plt.title(\"Movie Recommendations for John Wick using Cosine Similarity\")\n",
        "plt.show()"
      ],
      "metadata": {
        "colab": {
          "base_uri": "https://localhost:8080/",
          "height": 671
        },
        "id": "NcC6r4fyj8c-",
        "outputId": "c6d0f19d-8d94-4e3a-eb2f-c625fab9c623"
      },
      "execution_count": null,
      "outputs": [
        {
          "output_type": "display_data",
          "data": {
            "text/plain": [
              "<Figure size 2160x800 with 1 Axes>"
            ],
            "image/png": "[encoded data removed]"
          },
          "metadata": {
            "needs_background": "light"
          }
        }
      ]
    },
    {
      "cell_type": "code",
      "source": [
        "def Euclidean_recommendations(movie_title, sim = Euclidean):\n",
        "    movie_id = indices[movie_title]\n",
        "    global sim_scores\n",
        "    sim_scores = list(enumerate(sim[movie_id]))\n",
        "    sim_scores = sorted(sim_scores, key=lambda x: x[1], reverse=True)\n",
        "    sim_scores = sim_scores[1:11]\n",
        "    movie_indices = [i[0] for i in sim_scores]\n",
        "    return movie_df['original_title'].iloc[movie_indices]"
      ],
      "metadata": {
        "id": "t6FEj8wKrHPS"
      },
      "execution_count": null,
      "outputs": []
    },
    {
      "cell_type": "code",
      "source": [
        "Euclidean_recommendations(\"John Wick\")"
      ],
      "metadata": {
        "colab": {
          "base_uri": "https://localhost:8080/"
        },
        "id": "dLcTBCDDvhU5",
        "outputId": "d7eb65a3-20a3-4299-c786-a0f348480fdf"
      },
      "execution_count": null,
      "outputs": [
        {
          "output_type": "execute_result",
          "data": {
            "text/plain": [
              "42168    John Wick: Chapter 2\n",
              "3534                    Lured\n",
              "12104         The Dog Problem\n",
              "4445               Blind Fury\n",
              "23859                 The Dog\n",
              "807                 Stonewall\n",
              "29577           Welcome to Me\n",
              "23238               Wake Wood\n",
              "41814         A Dog's Purpose\n",
              "10198            C.H.O.M.P.S.\n",
              "Name: original_title, dtype: object"
            ]
          },
          "metadata": {},
          "execution_count": 34
        }
      ]
    },
    {
      "cell_type": "code",
      "source": [
        "import matplotlib.pyplot as plt\n",
        "from matplotlib.pyplot import figure\n",
        "\n",
        "figure(figsize=(27, 10), dpi=80)\n",
        "movie_indices = [i[0] for i in sim_scores]\n",
        "raw_score = []\n",
        "for element in sim_scores:\n",
        "  raw_score.append(element[1])\n",
        "\n",
        "\n",
        "x = np.array(movie_df['original_title'].iloc[movie_indices])\n",
        "y = np.array(raw_score)\n",
        "\n",
        "\n",
        "plt.bar(x,y, color = \"#C1F80A\")\n",
        "plt.title(\"Movie Recommendations for John Wick using Euclidean Distance based Similarity\")\n",
        "plt.show()"
      ],
      "metadata": {
        "colab": {
          "base_uri": "https://localhost:8080/",
          "height": 671
        },
        "id": "2AKSdDzap9Je",
        "outputId": "8c94e5d8-5920-40c0-b68c-4eb3d53165f5"
      },
      "execution_count": null,
      "outputs": [
        {
          "output_type": "display_data",
          "data": {
            "text/plain": [
              "<Figure size 2160x800 with 1 Axes>"
            ],
            "image/png": "[encoded data removed]"
          },
          "metadata": {
            "needs_background": "light"
          }
        }
      ]
    },
    {
      "cell_type": "markdown",
      "source": [],
      "metadata": {
        "id": "bslS2Nb41-Sv"
      }
    }
  ]
}