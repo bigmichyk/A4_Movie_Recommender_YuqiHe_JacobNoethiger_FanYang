{
  "nbformat": 4,
  "nbformat_minor": 0,
  "metadata": {
    "colab": {
      "provenance": []
    },
    "kernelspec": {
      "name": "python3",
      "display_name": "Python 3"
    },
    "language_info": {
      "name": "python"
    }
  },
  "cells": [
    {
      "cell_type": "code",
      "execution_count": null,
      "metadata": {
        "id": "NoYosgB59Ds7"
      },
      "outputs": [],
      "source": [
        "import pandas as pd\n",
        "import numpy as np\n",
        "import re\n",
        "from sklearn.feature_extraction.text import TfidfVectorizer\n",
        "from sklearn.metrics.pairwise import linear_kernel\n",
        "from sklearn.feature_extraction.text import CountVectorizer\n",
        "from sklearn.metrics.pairwise import cosine_similarity\n",
        "from sklearn.metrics.pairwise import pairwise_distances\n",
        "from scipy.spatial.distance import cdist"
      ]
    },
    {
      "cell_type": "code",
      "source": [
        "from google.colab import drive\n",
        "drive.mount('/content/drive')"
      ],
      "metadata": {
        "colab": {
          "base_uri": "https://localhost:8080/"
        },
        "id": "DZ5zfGBm-C9A",
        "outputId": "470234a3-b640-4041-98c6-87d2ca8f54ce"
      },
      "execution_count": null,
      "outputs": [
        {
          "output_type": "stream",
          "name": "stdout",
          "text": [
            "Mounted at /content/drive\n"
          ]
        }
      ]
    },
    {
      "cell_type": "code",
      "source": [
        "movie = '/content/drive/My Drive/dataset/movies_metadata.csv'\n",
        "movie_df = pd.read_csv(movie)"
      ],
      "metadata": {
        "id": "zXep-sp7-Hll",
        "colab": {
          "base_uri": "https://localhost:8080/"
        },
        "outputId": "7a61bded-8dff-43b6-8e02-83192a31d522"
      },
      "execution_count": null,
      "outputs": [
        {
          "output_type": "stream",
          "name": "stderr",
          "text": [
            "/usr/local/lib/python3.8/dist-packages/IPython/core/interactiveshell.py:3326: DtypeWarning: Columns (10) have mixed types.Specify dtype option on import or set low_memory=False.\n",
            "  exec(code_obj, self.user_global_ns, self.user_ns)\n"
          ]
        }
      ]
    },
    {
      "cell_type": "code",
      "source": [
        "movie_df.head()"
      ],
      "metadata": {
        "colab": {
          "base_uri": "https://localhost:8080/",
          "height": 751
        },
        "id": "NVCCF6sSAbHN",
        "outputId": "7a0359aa-a99c-48bb-f782-acc5bcd8b993"
      },
      "execution_count": null,
      "outputs": [
        {
          "output_type": "execute_result",
          "data": {
            "text/plain": [
              "   adult                              belongs_to_collection    budget  \\\n",
              "0  False  {'id': 10194, 'name': 'Toy Story Collection', ...  30000000   \n",
              "1  False                                                NaN  65000000   \n",
              "2  False  {'id': 119050, 'name': 'Grumpy Old Men Collect...         0   \n",
              "3  False                                                NaN  16000000   \n",
              "4  False  {'id': 96871, 'name': 'Father of the Bride Col...         0   \n",
              "\n",
              "                                              genres  \\\n",
              "0  [{'id': 16, 'name': 'Animation'}, {'id': 35, '...   \n",
              "1  [{'id': 12, 'name': 'Adventure'}, {'id': 14, '...   \n",
              "2  [{'id': 10749, 'name': 'Romance'}, {'id': 35, ...   \n",
              "3  [{'id': 35, 'name': 'Comedy'}, {'id': 18, 'nam...   \n",
              "4                     [{'id': 35, 'name': 'Comedy'}]   \n",
              "\n",
              "                               homepage     id    imdb_id original_language  \\\n",
              "0  http://toystory.disney.com/toy-story    862  tt0114709                en   \n",
              "1                                   NaN   8844  tt0113497                en   \n",
              "2                                   NaN  15602  tt0113228                en   \n",
              "3                                   NaN  31357  tt0114885                en   \n",
              "4                                   NaN  11862  tt0113041                en   \n",
              "\n",
              "                original_title  \\\n",
              "0                    Toy Story   \n",
              "1                      Jumanji   \n",
              "2             Grumpier Old Men   \n",
              "3            Waiting to Exhale   \n",
              "4  Father of the Bride Part II   \n",
              "\n",
              "                                            overview  ... release_date  \\\n",
              "0  Led by Woody, Andy's toys live happily in his ...  ...   1995-10-30   \n",
              "1  When siblings Judy and Peter discover an encha...  ...   1995-12-15   \n",
              "2  A family wedding reignites the ancient feud be...  ...   1995-12-22   \n",
              "3  Cheated on, mistreated and stepped on, the wom...  ...   1995-12-22   \n",
              "4  Just when George Banks has recovered from his ...  ...   1995-02-10   \n",
              "\n",
              "       revenue runtime                                   spoken_languages  \\\n",
              "0  373554033.0    81.0           [{'iso_639_1': 'en', 'name': 'English'}]   \n",
              "1  262797249.0   104.0  [{'iso_639_1': 'en', 'name': 'English'}, {'iso...   \n",
              "2          0.0   101.0           [{'iso_639_1': 'en', 'name': 'English'}]   \n",
              "3   81452156.0   127.0           [{'iso_639_1': 'en', 'name': 'English'}]   \n",
              "4   76578911.0   106.0           [{'iso_639_1': 'en', 'name': 'English'}]   \n",
              "\n",
              "     status                                            tagline  \\\n",
              "0  Released                                                NaN   \n",
              "1  Released          Roll the dice and unleash the excitement!   \n",
              "2  Released  Still Yelling. Still Fighting. Still Ready for...   \n",
              "3  Released  Friends are the people who let you be yourself...   \n",
              "4  Released  Just When His World Is Back To Normal... He's ...   \n",
              "\n",
              "                         title  video vote_average vote_count  \n",
              "0                    Toy Story  False          7.7     5415.0  \n",
              "1                      Jumanji  False          6.9     2413.0  \n",
              "2             Grumpier Old Men  False          6.5       92.0  \n",
              "3            Waiting to Exhale  False          6.1       34.0  \n",
              "4  Father of the Bride Part II  False          5.7      173.0  \n",
              "\n",
              "[5 rows x 24 columns]"
            ],
            "text/html": [
              "\n",
              "  <div id=\"df-03dde1e5-2bf0-4ed4-bba5-67594c9b9c16\">\n",
              "    <div class=\"colab-df-container\">\n",
              "      <div>\n",
              "<style scoped>\n",
              "    .dataframe tbody tr th:only-of-type {\n",
              "        vertical-align: middle;\n",
              "    }\n",
              "\n",
              "    .dataframe tbody tr th {\n",
              "        vertical-align: top;\n",
              "    }\n",
              "\n",
              "    .dataframe thead th {\n",
              "        text-align: right;\n",
              "    }\n",
              "</style>\n",
              "<table border=\"1\" class=\"dataframe\">\n",
              "  <thead>\n",
              "    <tr style=\"text-align: right;\">\n",
              "      <th></th>\n",
              "      <th>adult</th>\n",
              "      <th>belongs_to_collection</th>\n",
              "      <th>budget</th>\n",
              "      <th>genres</th>\n",
              "      <th>homepage</th>\n",
              "      <th>id</th>\n",
              "      <th>imdb_id</th>\n",
              "      <th>original_language</th>\n",
              "      <th>original_title</th>\n",
              "      <th>overview</th>\n",
              "      <th>...</th>\n",
              "      <th>release_date</th>\n",
              "      <th>revenue</th>\n",
              "      <th>runtime</th>\n",
              "      <th>spoken_languages</th>\n",
              "      <th>status</th>\n",
              "      <th>tagline</th>\n",
              "      <th>title</th>\n",
              "      <th>video</th>\n",
              "      <th>vote_average</th>\n",
              "      <th>vote_count</th>\n",
              "    </tr>\n",
              "  </thead>\n",
              "  <tbody>\n",
              "    <tr>\n",
              "      <th>0</th>\n",
              "      <td>False</td>\n",
              "      <td>{'id': 10194, 'name': 'Toy Story Collection', ...</td>\n",
              "      <td>30000000</td>\n",
              "      <td>[{'id': 16, 'name': 'Animation'}, {'id': 35, '...</td>\n",
              "      <td>http://toystory.disney.com/toy-story</td>\n",
              "      <td>862</td>\n",
              "      <td>tt0114709</td>\n",
              "      <td>en</td>\n",
              "      <td>Toy Story</td>\n",
              "      <td>Led by Woody, Andy's toys live happily in his ...</td>\n",
              "      <td>...</td>\n",
              "      <td>1995-10-30</td>\n",
              "      <td>373554033.0</td>\n",
              "      <td>81.0</td>\n",
              "      <td>[{'iso_639_1': 'en', 'name': 'English'}]</td>\n",
              "      <td>Released</td>\n",
              "      <td>NaN</td>\n",
              "      <td>Toy Story</td>\n",
              "      <td>False</td>\n",
              "      <td>7.7</td>\n",
              "      <td>5415.0</td>\n",
              "    </tr>\n",
              "    <tr>\n",
              "      <th>1</th>\n",
              "      <td>False</td>\n",
              "      <td>NaN</td>\n",
              "      <td>65000000</td>\n",
              "      <td>[{'id': 12, 'name': 'Adventure'}, {'id': 14, '...</td>\n",
              "      <td>NaN</td>\n",
              "      <td>8844</td>\n",
              "      <td>tt0113497</td>\n",
              "      <td>en</td>\n",
              "      <td>Jumanji</td>\n",
              "      <td>When siblings Judy and Peter discover an encha...</td>\n",
              "      <td>...</td>\n",
              "      <td>1995-12-15</td>\n",
              "      <td>262797249.0</td>\n",
              "      <td>104.0</td>\n",
              "      <td>[{'iso_639_1': 'en', 'name': 'English'}, {'iso...</td>\n",
              "      <td>Released</td>\n",
              "      <td>Roll the dice and unleash the excitement!</td>\n",
              "      <td>Jumanji</td>\n",
              "      <td>False</td>\n",
              "      <td>6.9</td>\n",
              "      <td>2413.0</td>\n",
              "    </tr>\n",
              "    <tr>\n",
              "      <th>2</th>\n",
              "      <td>False</td>\n",
              "      <td>{'id': 119050, 'name': 'Grumpy Old Men Collect...</td>\n",
              "      <td>0</td>\n",
              "      <td>[{'id': 10749, 'name': 'Romance'}, {'id': 35, ...</td>\n",
              "      <td>NaN</td>\n",
              "      <td>15602</td>\n",
              "      <td>tt0113228</td>\n",
              "      <td>en</td>\n",
              "      <td>Grumpier Old Men</td>\n",
              "      <td>A family wedding reignites the ancient feud be...</td>\n",
              "      <td>...</td>\n",
              "      <td>1995-12-22</td>\n",
              "      <td>0.0</td>\n",
              "      <td>101.0</td>\n",
              "      <td>[{'iso_639_1': 'en', 'name': 'English'}]</td>\n",
              "      <td>Released</td>\n",
              "      <td>Still Yelling. Still Fighting. Still Ready for...</td>\n",
              "      <td>Grumpier Old Men</td>\n",
              "      <td>False</td>\n",
              "      <td>6.5</td>\n",
              "      <td>92.0</td>\n",
              "    </tr>\n",
              "    <tr>\n",
              "      <th>3</th>\n",
              "      <td>False</td>\n",
              "      <td>NaN</td>\n",
              "      <td>16000000</td>\n",
              "      <td>[{'id': 35, 'name': 'Comedy'}, {'id': 18, 'nam...</td>\n",
              "      <td>NaN</td>\n",
              "      <td>31357</td>\n",
              "      <td>tt0114885</td>\n",
              "      <td>en</td>\n",
              "      <td>Waiting to Exhale</td>\n",
              "      <td>Cheated on, mistreated and stepped on, the wom...</td>\n",
              "      <td>...</td>\n",
              "      <td>1995-12-22</td>\n",
              "      <td>81452156.0</td>\n",
              "      <td>127.0</td>\n",
              "      <td>[{'iso_639_1': 'en', 'name': 'English'}]</td>\n",
              "      <td>Released</td>\n",
              "      <td>Friends are the people who let you be yourself...</td>\n",
              "      <td>Waiting to Exhale</td>\n",
              "      <td>False</td>\n",
              "      <td>6.1</td>\n",
              "      <td>34.0</td>\n",
              "    </tr>\n",
              "    <tr>\n",
              "      <th>4</th>\n",
              "      <td>False</td>\n",
              "      <td>{'id': 96871, 'name': 'Father of the Bride Col...</td>\n",
              "      <td>0</td>\n",
              "      <td>[{'id': 35, 'name': 'Comedy'}]</td>\n",
              "      <td>NaN</td>\n",
              "      <td>11862</td>\n",
              "      <td>tt0113041</td>\n",
              "      <td>en</td>\n",
              "      <td>Father of the Bride Part II</td>\n",
              "      <td>Just when George Banks has recovered from his ...</td>\n",
              "      <td>...</td>\n",
              "      <td>1995-02-10</td>\n",
              "      <td>76578911.0</td>\n",
              "      <td>106.0</td>\n",
              "      <td>[{'iso_639_1': 'en', 'name': 'English'}]</td>\n",
              "      <td>Released</td>\n",
              "      <td>Just When His World Is Back To Normal... He's ...</td>\n",
              "      <td>Father of the Bride Part II</td>\n",
              "      <td>False</td>\n",
              "      <td>5.7</td>\n",
              "      <td>173.0</td>\n",
              "    </tr>\n",
              "  </tbody>\n",
              "</table>\n",
              "<p>5 rows × 24 columns</p>\n",
              "</div>\n",
              "      <button class=\"colab-df-convert\" onclick=\"convertToInteractive('df-03dde1e5-2bf0-4ed4-bba5-67594c9b9c16')\"\n",
              "              title=\"Convert this dataframe to an interactive table.\"\n",
              "              style=\"display:none;\">\n",
              "        \n",
              "  <svg xmlns=\"http://www.w3.org/2000/svg\" height=\"24px\"viewBox=\"0 0 24 24\"\n",
              "       width=\"24px\">\n",
              "    <path d=\"M0 0h24v24H0V0z\" fill=\"none\"/>\n",
              "    <path d=\"M18.56 5.44l.94 2.06.94-2.06 2.06-.94-2.06-.94-.94-2.06-.94 2.06-2.06.94zm-11 1L8.5 8.5l.94-2.06 2.06-.94-2.06-.94L8.5 2.5l-.94 2.06-2.06.94zm10 10l.94 2.06.94-2.06 2.06-.94-2.06-.94-.94-2.06-.94 2.06-2.06.94z\"/><path d=\"M17.41 7.96l-1.37-1.37c-.4-.4-.92-.59-1.43-.59-.52 0-1.04.2-1.43.59L10.3 9.45l-7.72 7.72c-.78.78-.78 2.05 0 2.83L4 21.41c.39.39.9.59 1.41.59.51 0 1.02-.2 1.41-.59l7.78-7.78 2.81-2.81c.8-.78.8-2.07 0-2.86zM5.41 20L4 18.59l7.72-7.72 1.47 1.35L5.41 20z\"/>\n",
              "  </svg>\n",
              "      </button>\n",
              "      \n",
              "  <style>\n",
              "    .colab-df-container {\n",
              "      display:flex;\n",
              "      flex-wrap:wrap;\n",
              "      gap: 12px;\n",
              "    }\n",
              "\n",
              "    .colab-df-convert {\n",
              "      background-color: #E8F0FE;\n",
              "      border: none;\n",
              "      border-radius: 50%;\n",
              "      cursor: pointer;\n",
              "      display: none;\n",
              "      fill: #1967D2;\n",
              "      height: 32px;\n",
              "      padding: 0 0 0 0;\n",
              "      width: 32px;\n",
              "    }\n",
              "\n",
              "    .colab-df-convert:hover {\n",
              "      background-color: #E2EBFA;\n",
              "      box-shadow: 0px 1px 2px rgba(60, 64, 67, 0.3), 0px 1px 3px 1px rgba(60, 64, 67, 0.15);\n",
              "      fill: #174EA6;\n",
              "    }\n",
              "\n",
              "    [theme=dark] .colab-df-convert {\n",
              "      background-color: #3B4455;\n",
              "      fill: #D2E3FC;\n",
              "    }\n",
              "\n",
              "    [theme=dark] .colab-df-convert:hover {\n",
              "      background-color: #434B5C;\n",
              "      box-shadow: 0px 1px 3px 1px rgba(0, 0, 0, 0.15);\n",
              "      filter: drop-shadow(0px 1px 2px rgba(0, 0, 0, 0.3));\n",
              "      fill: #FFFFFF;\n",
              "    }\n",
              "  </style>\n",
              "\n",
              "      <script>\n",
              "        const buttonEl =\n",
              "          document.querySelector('#df-03dde1e5-2bf0-4ed4-bba5-67594c9b9c16 button.colab-df-convert');\n",
              "        buttonEl.style.display =\n",
              "          google.colab.kernel.accessAllowed ? 'block' : 'none';\n",
              "\n",
              "        async function convertToInteractive(key) {\n",
              "          const element = document.querySelector('#df-03dde1e5-2bf0-4ed4-bba5-67594c9b9c16');\n",
              "          const dataTable =\n",
              "            await google.colab.kernel.invokeFunction('convertToInteractive',\n",
              "                                                     [key], {});\n",
              "          if (!dataTable) return;\n",
              "\n",
              "          const docLinkHtml = 'Like what you see? Visit the ' +\n",
              "            '<a target=\"_blank\" href=https://colab.research.google.com/notebooks/data_table.ipynb>data table notebook</a>'\n",
              "            + ' to learn more about interactive tables.';\n",
              "          element.innerHTML = '';\n",
              "          dataTable['output_type'] = 'display_data';\n",
              "          await google.colab.output.renderOutput(dataTable, element);\n",
              "          const docLink = document.createElement('div');\n",
              "          docLink.innerHTML = docLinkHtml;\n",
              "          element.appendChild(docLink);\n",
              "        }\n",
              "      </script>\n",
              "    </div>\n",
              "  </div>\n",
              "  "
            ]
          },
          "metadata": {},
          "execution_count": 5
        }
      ]
    },
    {
      "cell_type": "code",
      "source": [
        "movie_df['overview'].head()"
      ],
      "metadata": {
        "colab": {
          "base_uri": "https://localhost:8080/"
        },
        "id": "-wnxUU5G-qKT",
        "outputId": "a5640d21-3bd2-4876-df2c-5f801e180a34"
      },
      "execution_count": null,
      "outputs": [
        {
          "output_type": "execute_result",
          "data": {
            "text/plain": [
              "0    Led by Woody, Andy's toys live happily in his ...\n",
              "1    When siblings Judy and Peter discover an encha...\n",
              "2    A family wedding reignites the ancient feud be...\n",
              "3    Cheated on, mistreated and stepped on, the wom...\n",
              "4    Just when George Banks has recovered from his ...\n",
              "Name: overview, dtype: object"
            ]
          },
          "metadata": {},
          "execution_count": 6
        }
      ]
    },
    {
      "cell_type": "code",
      "source": [
        "movie_df.info()"
      ],
      "metadata": {
        "colab": {
          "base_uri": "https://localhost:8080/"
        },
        "id": "mw7Li4KOFO4e",
        "outputId": "31d728cf-0c03-4fc5-d447-406c1e121707"
      },
      "execution_count": null,
      "outputs": [
        {
          "output_type": "stream",
          "name": "stdout",
          "text": [
            "<class 'pandas.core.frame.DataFrame'>\n",
            "RangeIndex: 45466 entries, 0 to 45465\n",
            "Data columns (total 24 columns):\n",
            " #   Column                 Non-Null Count  Dtype  \n",
            "---  ------                 --------------  -----  \n",
            " 0   adult                  45466 non-null  object \n",
            " 1   belongs_to_collection  4494 non-null   object \n",
            " 2   budget                 45466 non-null  object \n",
            " 3   genres                 45466 non-null  object \n",
            " 4   homepage               7782 non-null   object \n",
            " 5   id                     45466 non-null  object \n",
            " 6   imdb_id                45449 non-null  object \n",
            " 7   original_language      45455 non-null  object \n",
            " 8   original_title         45466 non-null  object \n",
            " 9   overview               44512 non-null  object \n",
            " 10  popularity             45461 non-null  object \n",
            " 11  poster_path            45080 non-null  object \n",
            " 12  production_companies   45463 non-null  object \n",
            " 13  production_countries   45463 non-null  object \n",
            " 14  release_date           45379 non-null  object \n",
            " 15  revenue                45460 non-null  float64\n",
            " 16  runtime                45203 non-null  float64\n",
            " 17  spoken_languages       45460 non-null  object \n",
            " 18  status                 45379 non-null  object \n",
            " 19  tagline                20412 non-null  object \n",
            " 20  title                  45460 non-null  object \n",
            " 21  video                  45460 non-null  object \n",
            " 22  vote_average           45460 non-null  float64\n",
            " 23  vote_count             45460 non-null  float64\n",
            "dtypes: float64(4), object(20)\n",
            "memory usage: 8.3+ MB\n"
          ]
        }
      ]
    },
    {
      "cell_type": "markdown",
      "source": [
        "# Create Movie Profile\n",
        "\n",
        "\n",
        "#### Data Preprocessing"
      ],
      "metadata": {
        "id": "oMmvp-9j4wqz"
      }
    },
    {
      "cell_type": "code",
      "source": [
        "import re\n",
        "# drop unwanted columns\n",
        "movie_df.drop(columns=['adult','budget','homepage','imdb_id','original_language','release_date','poster_path','production_companies','production_countries','release_date','revenue','runtime','spoken_languages','status','title','video','vote_count','popularity','belongs_to_collection'],inplace=True)\n",
        "# remove NA values\n",
        "movie_df = movie_df[movie_df[\"tagline\"].str.contains(\"NaN\") == False]\n",
        "# \n",
        "movie_features = [\"genres\",\"overview\",\"tagline\"]\n",
        "# combine these features, cleaning the content of the feature\n",
        "def combined_features(row):\n",
        " return row['genres'] + \" \" + row['overview'] + \" \" + row['tagline'] + \" \" + row['original_title']\n",
        "for feature in movie_features:\n",
        "  movie_df[feature] = movie_df[feature].str.replace(r'[^\\w\\s]+', '').str.replace(r'[\\d]+', '').str.replace('name', '').str.replace('id', '').str.replace(r'[\\s]+', ' ').str.lower()\n",
        "  movie_df[feature] = movie_df[feature].fillna('')\n",
        "movie_df['combined_features'] = movie_df.apply(combined_features, axis=1)\n"
      ],
      "metadata": {
        "colab": {
          "base_uri": "https://localhost:8080/"
        },
        "id": "OjUlWVMGXVvs",
        "outputId": "9ff8e89c-58c7-4b8c-8f7f-65b22816fbf1"
      },
      "execution_count": null,
      "outputs": [
        {
          "output_type": "stream",
          "name": "stderr",
          "text": [
            "<ipython-input-8-9155261ae29e>:12: FutureWarning: The default value of regex will change from True to False in a future version.\n",
            "  movie_df[feature] = movie_df[feature].str.replace(r'[^\\w\\s]+', '').str.replace(r'[\\d]+', '').str.replace('name', '').str.replace('id', '').str.replace(r'[\\s]+', ' ').str.lower()\n"
          ]
        }
      ]
    },
    {
      "cell_type": "code",
      "source": [
        "movie_df.shape"
      ],
      "metadata": {
        "colab": {
          "base_uri": "https://localhost:8080/"
        },
        "id": "GC6yX0U7aIx8",
        "outputId": "5cf04e0d-d739-4354-b945-eee95e36f4b5"
      },
      "execution_count": null,
      "outputs": [
        {
          "output_type": "execute_result",
          "data": {
            "text/plain": [
              "(20412, 7)"
            ]
          },
          "metadata": {},
          "execution_count": 9
        }
      ]
    },
    {
      "cell_type": "code",
      "source": [
        "movie_df.head()"
      ],
      "metadata": {
        "colab": {
          "base_uri": "https://localhost:8080/",
          "height": 206
        },
        "id": "k_Z4yb6wZIPX",
        "outputId": "ca5b9f7a-6c9b-4ad2-ea52-0068071a79b0"
      },
      "execution_count": null,
      "outputs": [
        {
          "output_type": "execute_result",
          "data": {
            "text/plain": [
              "                         genres     id               original_title  \\\n",
              "1      adventure fantasy family   8844                      Jumanji   \n",
              "2                romance comedy  15602             Grumpier Old Men   \n",
              "3          comedy drama romance  31357            Waiting to Exhale   \n",
              "4                        comedy  11862  Father of the Bride Part II   \n",
              "5   action crime drama thriller    949                         Heat   \n",
              "\n",
              "                                            overview  \\\n",
              "1  when siblings judy and peter discover an encha...   \n",
              "2  a family wedding reignites the ancient feud be...   \n",
              "3  cheated on mistreated and stepped on the women...   \n",
              "4  just when george banks has recovered from his ...   \n",
              "5  obsessive master thief neil mccauley leads a t...   \n",
              "\n",
              "                                             tagline  vote_average  \\\n",
              "1           roll the dice and unleash the excitement           6.9   \n",
              "2  still yelling still fighting still ready for love           6.5   \n",
              "3  friends are the people who let you be yourself...           6.1   \n",
              "4  just when his world is back to normal hes in f...           5.7   \n",
              "5                           a los angeles crime saga           7.7   \n",
              "\n",
              "                                   combined_features  \n",
              "1   adventure fantasy family when siblings judy a...  \n",
              "2   romance comedy a family wedding reignites the...  \n",
              "3   comedy drama romance cheated on mistreated an...  \n",
              "4   comedy just when george banks has recovered f...  \n",
              "5   action crime drama thriller obsessive master ...  "
            ],
            "text/html": [
              "\n",
              "  <div id=\"df-ccb055a7-0693-42df-ba74-e9e74d315a9e\">\n",
              "    <div class=\"colab-df-container\">\n",
              "      <div>\n",
              "<style scoped>\n",
              "    .dataframe tbody tr th:only-of-type {\n",
              "        vertical-align: middle;\n",
              "    }\n",
              "\n",
              "    .dataframe tbody tr th {\n",
              "        vertical-align: top;\n",
              "    }\n",
              "\n",
              "    .dataframe thead th {\n",
              "        text-align: right;\n",
              "    }\n",
              "</style>\n",
              "<table border=\"1\" class=\"dataframe\">\n",
              "  <thead>\n",
              "    <tr style=\"text-align: right;\">\n",
              "      <th></th>\n",
              "      <th>genres</th>\n",
              "      <th>id</th>\n",
              "      <th>original_title</th>\n",
              "      <th>overview</th>\n",
              "      <th>tagline</th>\n",
              "      <th>vote_average</th>\n",
              "      <th>combined_features</th>\n",
              "    </tr>\n",
              "  </thead>\n",
              "  <tbody>\n",
              "    <tr>\n",
              "      <th>1</th>\n",
              "      <td>adventure fantasy family</td>\n",
              "      <td>8844</td>\n",
              "      <td>Jumanji</td>\n",
              "      <td>when siblings judy and peter discover an encha...</td>\n",
              "      <td>roll the dice and unleash the excitement</td>\n",
              "      <td>6.9</td>\n",
              "      <td>adventure fantasy family when siblings judy a...</td>\n",
              "    </tr>\n",
              "    <tr>\n",
              "      <th>2</th>\n",
              "      <td>romance comedy</td>\n",
              "      <td>15602</td>\n",
              "      <td>Grumpier Old Men</td>\n",
              "      <td>a family wedding reignites the ancient feud be...</td>\n",
              "      <td>still yelling still fighting still ready for love</td>\n",
              "      <td>6.5</td>\n",
              "      <td>romance comedy a family wedding reignites the...</td>\n",
              "    </tr>\n",
              "    <tr>\n",
              "      <th>3</th>\n",
              "      <td>comedy drama romance</td>\n",
              "      <td>31357</td>\n",
              "      <td>Waiting to Exhale</td>\n",
              "      <td>cheated on mistreated and stepped on the women...</td>\n",
              "      <td>friends are the people who let you be yourself...</td>\n",
              "      <td>6.1</td>\n",
              "      <td>comedy drama romance cheated on mistreated an...</td>\n",
              "    </tr>\n",
              "    <tr>\n",
              "      <th>4</th>\n",
              "      <td>comedy</td>\n",
              "      <td>11862</td>\n",
              "      <td>Father of the Bride Part II</td>\n",
              "      <td>just when george banks has recovered from his ...</td>\n",
              "      <td>just when his world is back to normal hes in f...</td>\n",
              "      <td>5.7</td>\n",
              "      <td>comedy just when george banks has recovered f...</td>\n",
              "    </tr>\n",
              "    <tr>\n",
              "      <th>5</th>\n",
              "      <td>action crime drama thriller</td>\n",
              "      <td>949</td>\n",
              "      <td>Heat</td>\n",
              "      <td>obsessive master thief neil mccauley leads a t...</td>\n",
              "      <td>a los angeles crime saga</td>\n",
              "      <td>7.7</td>\n",
              "      <td>action crime drama thriller obsessive master ...</td>\n",
              "    </tr>\n",
              "  </tbody>\n",
              "</table>\n",
              "</div>\n",
              "      <button class=\"colab-df-convert\" onclick=\"convertToInteractive('df-ccb055a7-0693-42df-ba74-e9e74d315a9e')\"\n",
              "              title=\"Convert this dataframe to an interactive table.\"\n",
              "              style=\"display:none;\">\n",
              "        \n",
              "  <svg xmlns=\"http://www.w3.org/2000/svg\" height=\"24px\"viewBox=\"0 0 24 24\"\n",
              "       width=\"24px\">\n",
              "    <path d=\"M0 0h24v24H0V0z\" fill=\"none\"/>\n",
              "    <path d=\"M18.56 5.44l.94 2.06.94-2.06 2.06-.94-2.06-.94-.94-2.06-.94 2.06-2.06.94zm-11 1L8.5 8.5l.94-2.06 2.06-.94-2.06-.94L8.5 2.5l-.94 2.06-2.06.94zm10 10l.94 2.06.94-2.06 2.06-.94-2.06-.94-.94-2.06-.94 2.06-2.06.94z\"/><path d=\"M17.41 7.96l-1.37-1.37c-.4-.4-.92-.59-1.43-.59-.52 0-1.04.2-1.43.59L10.3 9.45l-7.72 7.72c-.78.78-.78 2.05 0 2.83L4 21.41c.39.39.9.59 1.41.59.51 0 1.02-.2 1.41-.59l7.78-7.78 2.81-2.81c.8-.78.8-2.07 0-2.86zM5.41 20L4 18.59l7.72-7.72 1.47 1.35L5.41 20z\"/>\n",
              "  </svg>\n",
              "      </button>\n",
              "      \n",
              "  <style>\n",
              "    .colab-df-container {\n",
              "      display:flex;\n",
              "      flex-wrap:wrap;\n",
              "      gap: 12px;\n",
              "    }\n",
              "\n",
              "    .colab-df-convert {\n",
              "      background-color: #E8F0FE;\n",
              "      border: none;\n",
              "      border-radius: 50%;\n",
              "      cursor: pointer;\n",
              "      display: none;\n",
              "      fill: #1967D2;\n",
              "      height: 32px;\n",
              "      padding: 0 0 0 0;\n",
              "      width: 32px;\n",
              "    }\n",
              "\n",
              "    .colab-df-convert:hover {\n",
              "      background-color: #E2EBFA;\n",
              "      box-shadow: 0px 1px 2px rgba(60, 64, 67, 0.3), 0px 1px 3px 1px rgba(60, 64, 67, 0.15);\n",
              "      fill: #174EA6;\n",
              "    }\n",
              "\n",
              "    [theme=dark] .colab-df-convert {\n",
              "      background-color: #3B4455;\n",
              "      fill: #D2E3FC;\n",
              "    }\n",
              "\n",
              "    [theme=dark] .colab-df-convert:hover {\n",
              "      background-color: #434B5C;\n",
              "      box-shadow: 0px 1px 3px 1px rgba(0, 0, 0, 0.15);\n",
              "      filter: drop-shadow(0px 1px 2px rgba(0, 0, 0, 0.3));\n",
              "      fill: #FFFFFF;\n",
              "    }\n",
              "  </style>\n",
              "\n",
              "      <script>\n",
              "        const buttonEl =\n",
              "          document.querySelector('#df-ccb055a7-0693-42df-ba74-e9e74d315a9e button.colab-df-convert');\n",
              "        buttonEl.style.display =\n",
              "          google.colab.kernel.accessAllowed ? 'block' : 'none';\n",
              "\n",
              "        async function convertToInteractive(key) {\n",
              "          const element = document.querySelector('#df-ccb055a7-0693-42df-ba74-e9e74d315a9e');\n",
              "          const dataTable =\n",
              "            await google.colab.kernel.invokeFunction('convertToInteractive',\n",
              "                                                     [key], {});\n",
              "          if (!dataTable) return;\n",
              "\n",
              "          const docLinkHtml = 'Like what you see? Visit the ' +\n",
              "            '<a target=\"_blank\" href=https://colab.research.google.com/notebooks/data_table.ipynb>data table notebook</a>'\n",
              "            + ' to learn more about interactive tables.';\n",
              "          element.innerHTML = '';\n",
              "          dataTable['output_type'] = 'display_data';\n",
              "          await google.colab.output.renderOutput(dataTable, element);\n",
              "          const docLink = document.createElement('div');\n",
              "          docLink.innerHTML = docLinkHtml;\n",
              "          element.appendChild(docLink);\n",
              "        }\n",
              "      </script>\n",
              "    </div>\n",
              "  </div>\n",
              "  "
            ]
          },
          "metadata": {},
          "execution_count": 10
        }
      ]
    },
    {
      "cell_type": "code",
      "source": [
        "movie_df['combined_features'] = movie_df['combined_features'].str.strip()\n",
        "movie_df['combined_features'] = movie_df['combined_features'].fillna(\"\").astype('str')\n",
        "\n",
        "movie_df.head()"
      ],
      "metadata": {
        "colab": {
          "base_uri": "https://localhost:8080/",
          "height": 206
        },
        "id": "d-ZTItf6CR5F",
        "outputId": "878f1dcb-44b8-454c-c20f-c854e1d05fb3"
      },
      "execution_count": null,
      "outputs": [
        {
          "output_type": "execute_result",
          "data": {
            "text/plain": [
              "                         genres     id               original_title  \\\n",
              "1      adventure fantasy family   8844                      Jumanji   \n",
              "2                romance comedy  15602             Grumpier Old Men   \n",
              "3          comedy drama romance  31357            Waiting to Exhale   \n",
              "4                        comedy  11862  Father of the Bride Part II   \n",
              "5   action crime drama thriller    949                         Heat   \n",
              "\n",
              "                                            overview  \\\n",
              "1  when siblings judy and peter discover an encha...   \n",
              "2  a family wedding reignites the ancient feud be...   \n",
              "3  cheated on mistreated and stepped on the women...   \n",
              "4  just when george banks has recovered from his ...   \n",
              "5  obsessive master thief neil mccauley leads a t...   \n",
              "\n",
              "                                             tagline  vote_average  \\\n",
              "1           roll the dice and unleash the excitement           6.9   \n",
              "2  still yelling still fighting still ready for love           6.5   \n",
              "3  friends are the people who let you be yourself...           6.1   \n",
              "4  just when his world is back to normal hes in f...           5.7   \n",
              "5                           a los angeles crime saga           7.7   \n",
              "\n",
              "                                   combined_features  \n",
              "1  adventure fantasy family when siblings judy an...  \n",
              "2  romance comedy a family wedding reignites the ...  \n",
              "3  comedy drama romance cheated on mistreated and...  \n",
              "4  comedy just when george banks has recovered fr...  \n",
              "5  action crime drama thriller obsessive master t...  "
            ],
            "text/html": [
              "\n",
              "  <div id=\"df-e0be2454-f913-444d-92ec-15afe00784c3\">\n",
              "    <div class=\"colab-df-container\">\n",
              "      <div>\n",
              "<style scoped>\n",
              "    .dataframe tbody tr th:only-of-type {\n",
              "        vertical-align: middle;\n",
              "    }\n",
              "\n",
              "    .dataframe tbody tr th {\n",
              "        vertical-align: top;\n",
              "    }\n",
              "\n",
              "    .dataframe thead th {\n",
              "        text-align: right;\n",
              "    }\n",
              "</style>\n",
              "<table border=\"1\" class=\"dataframe\">\n",
              "  <thead>\n",
              "    <tr style=\"text-align: right;\">\n",
              "      <th></th>\n",
              "      <th>genres</th>\n",
              "      <th>id</th>\n",
              "      <th>original_title</th>\n",
              "      <th>overview</th>\n",
              "      <th>tagline</th>\n",
              "      <th>vote_average</th>\n",
              "      <th>combined_features</th>\n",
              "    </tr>\n",
              "  </thead>\n",
              "  <tbody>\n",
              "    <tr>\n",
              "      <th>1</th>\n",
              "      <td>adventure fantasy family</td>\n",
              "      <td>8844</td>\n",
              "      <td>Jumanji</td>\n",
              "      <td>when siblings judy and peter discover an encha...</td>\n",
              "      <td>roll the dice and unleash the excitement</td>\n",
              "      <td>6.9</td>\n",
              "      <td>adventure fantasy family when siblings judy an...</td>\n",
              "    </tr>\n",
              "    <tr>\n",
              "      <th>2</th>\n",
              "      <td>romance comedy</td>\n",
              "      <td>15602</td>\n",
              "      <td>Grumpier Old Men</td>\n",
              "      <td>a family wedding reignites the ancient feud be...</td>\n",
              "      <td>still yelling still fighting still ready for love</td>\n",
              "      <td>6.5</td>\n",
              "      <td>romance comedy a family wedding reignites the ...</td>\n",
              "    </tr>\n",
              "    <tr>\n",
              "      <th>3</th>\n",
              "      <td>comedy drama romance</td>\n",
              "      <td>31357</td>\n",
              "      <td>Waiting to Exhale</td>\n",
              "      <td>cheated on mistreated and stepped on the women...</td>\n",
              "      <td>friends are the people who let you be yourself...</td>\n",
              "      <td>6.1</td>\n",
              "      <td>comedy drama romance cheated on mistreated and...</td>\n",
              "    </tr>\n",
              "    <tr>\n",
              "      <th>4</th>\n",
              "      <td>comedy</td>\n",
              "      <td>11862</td>\n",
              "      <td>Father of the Bride Part II</td>\n",
              "      <td>just when george banks has recovered from his ...</td>\n",
              "      <td>just when his world is back to normal hes in f...</td>\n",
              "      <td>5.7</td>\n",
              "      <td>comedy just when george banks has recovered fr...</td>\n",
              "    </tr>\n",
              "    <tr>\n",
              "      <th>5</th>\n",
              "      <td>action crime drama thriller</td>\n",
              "      <td>949</td>\n",
              "      <td>Heat</td>\n",
              "      <td>obsessive master thief neil mccauley leads a t...</td>\n",
              "      <td>a los angeles crime saga</td>\n",
              "      <td>7.7</td>\n",
              "      <td>action crime drama thriller obsessive master t...</td>\n",
              "    </tr>\n",
              "  </tbody>\n",
              "</table>\n",
              "</div>\n",
              "      <button class=\"colab-df-convert\" onclick=\"convertToInteractive('df-e0be2454-f913-444d-92ec-15afe00784c3')\"\n",
              "              title=\"Convert this dataframe to an interactive table.\"\n",
              "              style=\"display:none;\">\n",
              "        \n",
              "  <svg xmlns=\"http://www.w3.org/2000/svg\" height=\"24px\"viewBox=\"0 0 24 24\"\n",
              "       width=\"24px\">\n",
              "    <path d=\"M0 0h24v24H0V0z\" fill=\"none\"/>\n",
              "    <path d=\"M18.56 5.44l.94 2.06.94-2.06 2.06-.94-2.06-.94-.94-2.06-.94 2.06-2.06.94zm-11 1L8.5 8.5l.94-2.06 2.06-.94-2.06-.94L8.5 2.5l-.94 2.06-2.06.94zm10 10l.94 2.06.94-2.06 2.06-.94-2.06-.94-.94-2.06-.94 2.06-2.06.94z\"/><path d=\"M17.41 7.96l-1.37-1.37c-.4-.4-.92-.59-1.43-.59-.52 0-1.04.2-1.43.59L10.3 9.45l-7.72 7.72c-.78.78-.78 2.05 0 2.83L4 21.41c.39.39.9.59 1.41.59.51 0 1.02-.2 1.41-.59l7.78-7.78 2.81-2.81c.8-.78.8-2.07 0-2.86zM5.41 20L4 18.59l7.72-7.72 1.47 1.35L5.41 20z\"/>\n",
              "  </svg>\n",
              "      </button>\n",
              "      \n",
              "  <style>\n",
              "    .colab-df-container {\n",
              "      display:flex;\n",
              "      flex-wrap:wrap;\n",
              "      gap: 12px;\n",
              "    }\n",
              "\n",
              "    .colab-df-convert {\n",
              "      background-color: #E8F0FE;\n",
              "      border: none;\n",
              "      border-radius: 50%;\n",
              "      cursor: pointer;\n",
              "      display: none;\n",
              "      fill: #1967D2;\n",
              "      height: 32px;\n",
              "      padding: 0 0 0 0;\n",
              "      width: 32px;\n",
              "    }\n",
              "\n",
              "    .colab-df-convert:hover {\n",
              "      background-color: #E2EBFA;\n",
              "      box-shadow: 0px 1px 2px rgba(60, 64, 67, 0.3), 0px 1px 3px 1px rgba(60, 64, 67, 0.15);\n",
              "      fill: #174EA6;\n",
              "    }\n",
              "\n",
              "    [theme=dark] .colab-df-convert {\n",
              "      background-color: #3B4455;\n",
              "      fill: #D2E3FC;\n",
              "    }\n",
              "\n",
              "    [theme=dark] .colab-df-convert:hover {\n",
              "      background-color: #434B5C;\n",
              "      box-shadow: 0px 1px 3px 1px rgba(0, 0, 0, 0.15);\n",
              "      filter: drop-shadow(0px 1px 2px rgba(0, 0, 0, 0.3));\n",
              "      fill: #FFFFFF;\n",
              "    }\n",
              "  </style>\n",
              "\n",
              "      <script>\n",
              "        const buttonEl =\n",
              "          document.querySelector('#df-e0be2454-f913-444d-92ec-15afe00784c3 button.colab-df-convert');\n",
              "        buttonEl.style.display =\n",
              "          google.colab.kernel.accessAllowed ? 'block' : 'none';\n",
              "\n",
              "        async function convertToInteractive(key) {\n",
              "          const element = document.querySelector('#df-e0be2454-f913-444d-92ec-15afe00784c3');\n",
              "          const dataTable =\n",
              "            await google.colab.kernel.invokeFunction('convertToInteractive',\n",
              "                                                     [key], {});\n",
              "          if (!dataTable) return;\n",
              "\n",
              "          const docLinkHtml = 'Like what you see? Visit the ' +\n",
              "            '<a target=\"_blank\" href=https://colab.research.google.com/notebooks/data_table.ipynb>data table notebook</a>'\n",
              "            + ' to learn more about interactive tables.';\n",
              "          element.innerHTML = '';\n",
              "          dataTable['output_type'] = 'display_data';\n",
              "          await google.colab.output.renderOutput(dataTable, element);\n",
              "          const docLink = document.createElement('div');\n",
              "          docLink.innerHTML = docLinkHtml;\n",
              "          element.appendChild(docLink);\n",
              "        }\n",
              "      </script>\n",
              "    </div>\n",
              "  </div>\n",
              "  "
            ]
          },
          "metadata": {},
          "execution_count": 11
        }
      ]
    },
    {
      "cell_type": "code",
      "source": [
        "movie_df[\"combined_features\"]"
      ],
      "metadata": {
        "id": "q1zoeJOoD2bt",
        "colab": {
          "base_uri": "https://localhost:8080/"
        },
        "outputId": "6961f7b3-f6b2-4d53-c126-77b5c39e6ff1"
      },
      "execution_count": null,
      "outputs": [
        {
          "output_type": "execute_result",
          "data": {
            "text/plain": [
              "1        adventure fantasy family when siblings judy an...\n",
              "2        romance comedy a family wedding reignites the ...\n",
              "3        comedy drama romance cheated on mistreated and...\n",
              "4        comedy just when george banks has recovered fr...\n",
              "5        action crime drama thriller obsessive master t...\n",
              "                               ...                        \n",
              "45454    comedy drama the morning after is a feature fi...\n",
              "45456    horror mystery thriller an unsuccessful sculpt...\n",
              "45458    horror a film archivist revisits the story of ...\n",
              "45461    drama family rising and falling between a man ...\n",
              "45463    action drama thriller when one of her hits goe...\n",
              "Name: combined_features, Length: 20412, dtype: object"
            ]
          },
          "metadata": {},
          "execution_count": 12
        }
      ]
    },
    {
      "cell_type": "markdown",
      "source": [
        "#### Convert to TF-IDF"
      ],
      "metadata": {
        "id": "-Sf2-p-xaVbS"
      }
    },
    {
      "cell_type": "code",
      "source": [
        "# prepare stopwords\n",
        "with open('/content/drive/My Drive/dataset/stopwords-english') as f:\n",
        "    stopwords = f.read().splitlines()\n",
        "\n",
        "print(stopwords)"
      ],
      "metadata": {
        "colab": {
          "base_uri": "https://localhost:8080/"
        },
        "id": "kp34nvyrljJV",
        "outputId": "f5f79bed-270f-48bb-8f87-468cf0fef0b4"
      },
      "execution_count": null,
      "outputs": [
        {
          "output_type": "stream",
          "name": "stdout",
          "text": [
            "['i', 'me', 'my', 'myself', 'we', 'our', 'ours', 'ourselves', 'you', \"you're\", \"you've\", \"you'll\", \"you'd\", 'your', 'yours', 'yourself', 'yourselves', 'he', 'him', 'his', 'himself', 'she', \"she's\", 'her', 'hers', 'herself', 'it', \"it's\", 'its', 'itself', 'they', 'them', 'their', 'theirs', 'themselves', 'what', 'which', 'who', 'whom', 'this', 'that', \"that'll\", 'these', 'those', 'am', 'is', 'are', 'was', 'were', 'be', 'been', 'being', 'have', 'has', 'had', 'having', 'do', 'does', 'did', 'doing', 'a', 'an', 'the', 'and', 'but', 'if', 'or', 'because', 'as', 'until', 'while', 'of', 'at', 'by', 'for', 'with', 'about', 'against', 'between', 'into', 'through', 'during', 'before', 'after', 'above', 'below', 'to', 'from', 'up', 'down', 'in', 'out', 'on', 'off', 'over', 'under', 'again', 'further', 'then', 'once', 'here', 'there', 'when', 'where', 'why', 'how', 'all', 'any', 'both', 'each', 'few', 'more', 'most', 'other', 'some', 'such', 'no', 'nor', 'not', 'only', 'own', 'same', 'so', 'than', 'too', 'very', 's', 't', 'can', 'will', 'just', 'don', \"don't\", 'should', \"should've\", 'now', 'd', 'll', 'm', 'o', 're', 've', 'y', 'ain', 'aren', \"aren't\", 'couldn', \"couldn't\", 'didn', \"didn't\", 'doesn', \"doesn't\", 'hadn', \"hadn't\", 'hasn', \"hasn't\", 'haven', \"haven't\", 'isn', \"isn't\", 'ma', 'mightn', \"mightn't\", 'mustn', \"mustn't\", 'needn', \"needn't\", 'shan', \"shan't\", 'shouldn', \"shouldn't\", 'wasn', \"wasn't\", 'weren', \"weren't\", 'won', \"won't\", 'wouldn', \"wouldn't\"]\n"
          ]
        }
      ]
    },
    {
      "cell_type": "code",
      "source": [
        "from sklearn.feature_extraction.text import TfidfVectorizer\n",
        "tf = TfidfVectorizer(stop_words= 'english')\n",
        "tfidf = tf.fit_transform(movie_df['combined_features'])\n",
        "tfidf.shape"
      ],
      "metadata": {
        "colab": {
          "base_uri": "https://localhost:8080/"
        },
        "id": "BZsAzPnnEtkE",
        "outputId": "fca318e4-a897-4c24-f3da-8eeaca65bbb7"
      },
      "execution_count": null,
      "outputs": [
        {
          "output_type": "execute_result",
          "data": {
            "text/plain": [
              "(20412, 60077)"
            ]
          },
          "metadata": {},
          "execution_count": 16
        }
      ]
    },
    {
      "cell_type": "code",
      "source": [
        "print(tfidf)"
      ],
      "metadata": {
        "colab": {
          "base_uri": "https://localhost:8080/"
        },
        "id": "8Mgwu07HVF-5",
        "outputId": "c0512888-cfd1-4df4-9b96-5c4b8985c1ea"
      },
      "execution_count": null,
      "outputs": [
        {
          "output_type": "stream",
          "name": "stdout",
          "text": [
            "  (0, 27737)\t0.23420120866018945\n",
            "  (0, 17328)\t0.15033560298500012\n",
            "  (0, 55192)\t0.1609777490130085\n",
            "  (0, 13746)\t0.2024664031704977\n",
            "  (0, 44669)\t0.15063098544784984\n",
            "  (0, 11511)\t0.1367824746790146\n",
            "  (0, 52432)\t0.1270186881672357\n",
            "  (0, 34500)\t0.2055231802090219\n",
            "  (0, 17207)\t0.09756661015545884\n",
            "  (0, 44135)\t0.2249193730706147\n",
            "  (0, 20978)\t0.13388862945465543\n",
            "  (0, 45100)\t0.131448138242783\n",
            "  (0, 44366)\t0.17298507042853897\n",
            "  (0, 41487)\t0.13521392817596314\n",
            "  (0, 18738)\t0.15004398345850337\n",
            "  (0, 19767)\t0.1282152077951533\n",
            "  (0, 24440)\t0.11738628181742185\n",
            "  (0, 1248)\t0.23420120866018945\n",
            "  (0, 44773)\t0.12832714847421173\n",
            "  (0, 30652)\t0.10006975899916422\n",
            "  (0, 58531)\t0.0828703232332887\n",
            "  (0, 26104)\t0.12059264655824871\n",
            "  (0, 53828)\t0.12489474512408269\n",
            "  (0, 57633)\t0.11882197625217425\n",
            "  (0, 821)\t0.14442008824785516\n",
            "  :\t:\n",
            "  (20410, 44355)\t0.5398365262311212\n",
            "  (20410, 17962)\t0.46388821047243567\n",
            "  (20410, 58010)\t0.2856518633295627\n",
            "  (20410, 31954)\t0.2409810425704696\n",
            "  (20410, 14978)\t0.07219798921597269\n",
            "  (20410, 17991)\t0.11713082403214349\n",
            "  (20411, 57957)\t0.29725504160013216\n",
            "  (20411, 4776)\t0.3255328139353861\n",
            "  (20411, 24119)\t0.2542655655981288\n",
            "  (20411, 33835)\t0.22139115617490385\n",
            "  (20411, 5004)\t0.2590239082733188\n",
            "  (20411, 50919)\t0.3325436517161894\n",
            "  (20411, 58300)\t0.20496133733997762\n",
            "  (20411, 16455)\t0.21519804742196014\n",
            "  (20411, 41249)\t0.2396397957414646\n",
            "  (20411, 2974)\t0.255021072410123\n",
            "  (20411, 34264)\t0.23268405074677254\n",
            "  (20411, 6104)\t0.2160691737993874\n",
            "  (20411, 21404)\t0.17351281130114007\n",
            "  (20411, 14605)\t0.2668846976701346\n",
            "  (20411, 12626)\t0.19455990749272045\n",
            "  (20411, 52856)\t0.09972370085345304\n",
            "  (20411, 604)\t0.10692349382467034\n",
            "  (20411, 14978)\t0.07365237186121287\n",
            "  (20411, 20363)\t0.19163569386295046\n"
          ]
        }
      ]
    },
    {
      "cell_type": "markdown",
      "source": [
        "#### *Manhattan_distance*"
      ],
      "metadata": {
        "id": "gT291L2jw78o"
      }
    },
    {
      "cell_type": "code",
      "source": [
        "manhattan = 1 - pairwise_distances(tfidf, metric = \"manhattan\")\n",
        "manhattan"
      ],
      "metadata": {
        "colab": {
          "base_uri": "https://localhost:8080/"
        },
        "id": "e1LBnAsxrrJe",
        "outputId": "034123b8-244a-43b3-ae58-7a4612b00a75"
      },
      "execution_count": null,
      "outputs": [
        {
          "output_type": "execute_result",
          "data": {
            "text/plain": [
              "array([[  1.        , -10.76941057, -10.41708325, ...,  -9.0241912 ,\n",
              "         -7.55351053,  -8.92685894],\n",
              "       [-10.76941057,   1.        , -10.09475529, ...,  -9.09194438,\n",
              "         -7.45605016,  -9.21214286],\n",
              "       [-10.41708325, -10.09475529,   1.        , ...,  -8.30771102,\n",
              "         -6.57384959,  -8.34115491],\n",
              "       ...,\n",
              "       [ -9.0241912 ,  -9.09194438,  -8.30771102, ...,   1.        ,\n",
              "         -5.57823666,  -7.2007581 ],\n",
              "       [ -7.55351053,  -7.45605016,  -6.57384959, ...,  -5.57823666,\n",
              "          1.        ,  -5.55403917],\n",
              "       [ -8.92685894,  -9.21214286,  -8.34115491, ...,  -7.2007581 ,\n",
              "         -5.55403917,   1.        ]])"
            ]
          },
          "metadata": {},
          "execution_count": 16
        }
      ]
    },
    {
      "cell_type": "code",
      "source": [],
      "metadata": {
        "id": "NCTulZI_0W6-"
      },
      "execution_count": null,
      "outputs": []
    },
    {
      "cell_type": "code",
      "source": [
        "titles = movie_df['original_title']\n",
        "indices = pd.Series(movie_df.reset_index().index, index=movie_df['original_title'])\n",
        "indices"
      ],
      "metadata": {
        "colab": {
          "base_uri": "https://localhost:8080/"
        },
        "id": "aD9mdhvCHKpw",
        "outputId": "3b6ec8da-0850-4dec-f19f-e3b819c4debc"
      },
      "execution_count": null,
      "outputs": [
        {
          "output_type": "execute_result",
          "data": {
            "text/plain": [
              "original_title\n",
              "Jumanji                            0\n",
              "Grumpier Old Men                   1\n",
              "Waiting to Exhale                  2\n",
              "Father of the Bride Part II        3\n",
              "Heat                               4\n",
              "                               ...  \n",
              "The Morning After              20407\n",
              "House of Horrors               20408\n",
              "The Burkittsville 7            20409\n",
              "رگ خواب                        20410\n",
              "Betrayal                       20411\n",
              "Length: 20412, dtype: int64"
            ]
          },
          "metadata": {},
          "execution_count": 17
        }
      ]
    },
    {
      "cell_type": "markdown",
      "source": [
        "Chebyshev and Jaccard\n",
        " "
      ],
      "metadata": {
        "id": "VlMo8AeR0zaZ"
      }
    },
    {
      "cell_type": "markdown",
      "source": [
        "#### Implementation and Results"
      ],
      "metadata": {
        "id": "hhQMHvq-2N4W"
      }
    },
    {
      "cell_type": "code",
      "source": [
        "def Manhattan_recommendations(movie_title, sim = manhattan):\n",
        "    movie_id = indices[movie_title]\n",
        "    global sim_scores\n",
        "    sim_scores = list(enumerate(sim[movie_id]))\n",
        "    sim_scores = sorted(sim_scores, key=lambda x: x[1], reverse = True)\n",
        "    sim_scores = sim_scores[1:11]\n",
        "    movie_indices = [i[0] for i in sim_scores]\n",
        "    return movie_df['original_title'].iloc[movie_indices]"
      ],
      "metadata": {
        "id": "t6FEj8wKrHPS"
      },
      "execution_count": null,
      "outputs": []
    },
    {
      "cell_type": "code",
      "source": [
        "Manhattan_recommendations(\"John Wick\")"
      ],
      "metadata": {
        "colab": {
          "base_uri": "https://localhost:8080/"
        },
        "id": "dLcTBCDDvhU5",
        "outputId": "01890cab-4a9c-4c06-9ea4-a2d77f6f8c1d"
      },
      "execution_count": null,
      "outputs": [
        {
          "output_type": "execute_result",
          "data": {
            "text/plain": [
              "26923                   Python 2\n",
              "35314                 Tupla-Uuno\n",
              "20621            The Wayward Bus\n",
              "24953             Too Many Cooks\n",
              "41954            Cuerpo de élite\n",
              "23460    The Cabinet of Caligari\n",
              "37547                    Fraktus\n",
              "26024                        Gun\n",
              "6889         Trapped in Paradise\n",
              "40166                      P & B\n",
              "Name: original_title, dtype: object"
            ]
          },
          "metadata": {},
          "execution_count": 19
        }
      ]
    },
    {
      "cell_type": "code",
      "source": [
        "Manhattan_recommendations(\"The Dark Knight\")"
      ],
      "metadata": {
        "colab": {
          "base_uri": "https://localhost:8080/"
        },
        "id": "93qIvfwp2NOY",
        "outputId": "7883e517-e514-41a3-a476-b33ddb9ef0bb"
      },
      "execution_count": null,
      "outputs": [
        {
          "output_type": "execute_result",
          "data": {
            "text/plain": [
              "26923                   Python 2\n",
              "35314                 Tupla-Uuno\n",
              "24953             Too Many Cooks\n",
              "16318                 Mickey One\n",
              "20621            The Wayward Bus\n",
              "41954            Cuerpo de élite\n",
              "23460    The Cabinet of Caligari\n",
              "37547                    Fraktus\n",
              "40166                      P & B\n",
              "45461                    رگ خواب\n",
              "Name: original_title, dtype: object"
            ]
          },
          "metadata": {},
          "execution_count": 22
        }
      ]
    },
    {
      "cell_type": "code",
      "source": [
        "Manhattan_recommendations(\"Shutter Island\")"
      ],
      "metadata": {
        "colab": {
          "base_uri": "https://localhost:8080/"
        },
        "id": "3x9dz-TJ2ZoN",
        "outputId": "4cce283e-b612-43e0-c2a6-2fce3ea9b520"
      },
      "execution_count": null,
      "outputs": [
        {
          "output_type": "execute_result",
          "data": {
            "text/plain": [
              "26923                   Python 2\n",
              "35314                 Tupla-Uuno\n",
              "37929                     Rumble\n",
              "24953             Too Many Cooks\n",
              "20621            The Wayward Bus\n",
              "41954            Cuerpo de élite\n",
              "23460    The Cabinet of Caligari\n",
              "37547                    Fraktus\n",
              "40166                      P & B\n",
              "16318                 Mickey One\n",
              "Name: original_title, dtype: object"
            ]
          },
          "metadata": {},
          "execution_count": 23
        }
      ]
    },
    {
      "cell_type": "code",
      "source": [
        "Manhattan_recommendations(\"Braveheart\")"
      ],
      "metadata": {
        "colab": {
          "base_uri": "https://localhost:8080/"
        },
        "id": "oxmIWHf_2Nih",
        "outputId": "bae5040d-d7b0-4b2b-d065-c4382a3b70a3"
      },
      "execution_count": null,
      "outputs": [
        {
          "output_type": "execute_result",
          "data": {
            "text/plain": [
              "26923                   Python 2\n",
              "35314                 Tupla-Uuno\n",
              "24953             Too Many Cooks\n",
              "37547                    Fraktus\n",
              "20621            The Wayward Bus\n",
              "41954            Cuerpo de élite\n",
              "20767             E Aí... Comeu?\n",
              "40166                      P & B\n",
              "23460    The Cabinet of Caligari\n",
              "16318                 Mickey One\n",
              "Name: original_title, dtype: object"
            ]
          },
          "metadata": {},
          "execution_count": 24
        }
      ]
    },
    {
      "cell_type": "code",
      "source": [
        "Manhattan_recommendations(\"La La Land\")"
      ],
      "metadata": {
        "colab": {
          "base_uri": "https://localhost:8080/"
        },
        "id": "AtVxsUyI2Nsf",
        "outputId": "dab4fd90-9433-4bde-a6f8-2e02e4f248f9"
      },
      "execution_count": null,
      "outputs": [
        {
          "output_type": "execute_result",
          "data": {
            "text/plain": [
              "26923           Python 2\n",
              "35314         Tupla-Uuno\n",
              "24953     Too Many Cooks\n",
              "39719            La nona\n",
              "37547            Fraktus\n",
              "20767     E Aí... Comeu?\n",
              "20621    The Wayward Bus\n",
              "41954    Cuerpo de élite\n",
              "28938       Ballermann 6\n",
              "40166              P & B\n",
              "Name: original_title, dtype: object"
            ]
          },
          "metadata": {},
          "execution_count": 25
        }
      ]
    },
    {
      "cell_type": "code",
      "source": [
        "Manhattan_recommendations(\"Harry Potter and the Philosopher's Stone\")"
      ],
      "metadata": {
        "colab": {
          "base_uri": "https://localhost:8080/"
        },
        "id": "LQ5Ei7jM2N09",
        "outputId": "ff53f55a-8964-4c24-ad4b-1f5c19bc1465"
      },
      "execution_count": null,
      "outputs": [
        {
          "output_type": "execute_result",
          "data": {
            "text/plain": [
              "26923                                   Python 2\n",
              "35314                                 Tupla-Uuno\n",
              "24953                             Too Many Cooks\n",
              "20621                            The Wayward Bus\n",
              "5678     Harry Potter and the Chamber of Secrets\n",
              "41954                            Cuerpo de élite\n",
              "37547                                    Fraktus\n",
              "23460                    The Cabinet of Caligari\n",
              "40166                                      P & B\n",
              "3933                             The Amati Girls\n",
              "Name: original_title, dtype: object"
            ]
          },
          "metadata": {},
          "execution_count": 26
        }
      ]
    },
    {
      "cell_type": "code",
      "source": [
        "Manhattan_recommendations(\"Intouchables\")"
      ],
      "metadata": {
        "colab": {
          "base_uri": "https://localhost:8080/"
        },
        "id": "zr14SLUq2N7F",
        "outputId": "847d3390-ad61-4e89-e107-546f729b8b23"
      },
      "execution_count": null,
      "outputs": [
        {
          "output_type": "execute_result",
          "data": {
            "text/plain": [
              "26923                   Python 2\n",
              "35314                 Tupla-Uuno\n",
              "24953             Too Many Cooks\n",
              "41954            Cuerpo de élite\n",
              "20621            The Wayward Bus\n",
              "37547                    Fraktus\n",
              "40166                      P & B\n",
              "35110              The Big Short\n",
              "20767             E Aí... Comeu?\n",
              "23460    The Cabinet of Caligari\n",
              "Name: original_title, dtype: object"
            ]
          },
          "metadata": {},
          "execution_count": 27
        }
      ]
    },
    {
      "cell_type": "code",
      "source": [
        "Manhattan_recommendations(\"TRON: Legacy\")"
      ],
      "metadata": {
        "colab": {
          "base_uri": "https://localhost:8080/"
        },
        "id": "k6UR3Wmo2OCi",
        "outputId": "255b97ef-27e6-40ff-ffda-7e0fade82de6"
      },
      "execution_count": null,
      "outputs": [
        {
          "output_type": "execute_result",
          "data": {
            "text/plain": [
              "26923                   Python 2\n",
              "35314                 Tupla-Uuno\n",
              "1996                        Tron\n",
              "24953             Too Many Cooks\n",
              "20621            The Wayward Bus\n",
              "16318                 Mickey One\n",
              "41954            Cuerpo de élite\n",
              "37547                    Fraktus\n",
              "20767             E Aí... Comeu?\n",
              "23460    The Cabinet of Caligari\n",
              "Name: original_title, dtype: object"
            ]
          },
          "metadata": {},
          "execution_count": 29
        }
      ]
    },
    {
      "cell_type": "code",
      "source": [
        "import matplotlib.pyplot as plt\n",
        "from matplotlib.pyplot import figure\n",
        "\n",
        "figure(figsize=(27, 10), dpi=80)\n",
        "movie_indices = [i[0] for i in sim_scores]\n",
        "raw_score = []\n",
        "for element in sim_scores:\n",
        "  raw_score.append(element[1])\n",
        "\n",
        "\n",
        "x = np.array(movie_df['original_title'].iloc[movie_indices])\n",
        "y = np.array(raw_score)\n",
        "\n",
        "\n",
        "plt.bar(x,y, color = \"#FF796C\")\n",
        "plt.title(\"Movie Recommendations for John Wick using Manhattan Distance based Similarity\")\n",
        "plt.show()"
      ],
      "metadata": {
        "colab": {
          "base_uri": "https://localhost:8080/",
          "height": 671
        },
        "id": "2AKSdDzap9Je",
        "outputId": "86b0189a-598c-40b7-c9b5-e4f2d819728f"
      },
      "execution_count": null,
      "outputs": [
        {
          "output_type": "display_data",
          "data": {
            "text/plain": [
              "<Figure size 2160x800 with 1 Axes>"
            ],
            "image/png": "[encoded data removed]"
          },
          "metadata": {
            "needs_background": "light"
          }
        }
      ]
    },
    {
      "cell_type": "markdown",
      "source": [],
      "metadata": {
        "id": "bslS2Nb41-Sv"
      }
    }
  ]
}